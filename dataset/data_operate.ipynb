{
 "cells": [
  {
   "cell_type": "code",
   "execution_count": 4,
   "metadata": {},
   "outputs": [],
   "source": [
    "import os\n",
    "import pandas as pd\n",
    "import numpy as np\n",
    "from video_frame import ffmpeg_cut\n",
    "from bbox_keypoints import Databuilder\n",
    "from kp_process import keypoints_fix\n"
   ]
  },
  {
   "cell_type": "code",
   "execution_count": null,
   "metadata": {},
   "outputs": [],
   "source": [
    "video_dir = r\"D:\\pose\\Eksik OFTler\\OneDrive-2021-10-28\\pain\"\n",
    "video_list = os.listdir(video_dir)\n",
    "target_dir = r\"D:\\pose\\pain\\data\\raw_frame\"\n",
    "ffmpeg_cut(video_dir, target_dir, video_list=video_list )"
   ]
  },
  {
   "cell_type": "code",
   "execution_count": 8,
   "metadata": {},
   "outputs": [],
   "source": [
    "img_file = r\"D:\\pose\\pain\\data\\raw_frame\\binnur_front_trim\"\n",
    "#img_file_list = [os.path.join(img_file, item) for item in os.listdir(img_file)]\n",
    "\n",
    "save_file = r\"D:\\pose\\pain\\data\"\n",
    "data_model = Databuilder(img_file, save_file, 600, 600, load_model=False)\n",
    "data_model.pipeline(needcrop=False, pose=True)"
   ]
  },
  {
   "cell_type": "code",
   "execution_count": 2,
   "metadata": {},
   "outputs": [],
   "source": [
    "import os\n",
    "import pandas as pd\n",
    "import numpy as np\n",
    "import shutil"
   ]
  },
  {
   "cell_type": "code",
   "execution_count": 3,
   "metadata": {},
   "outputs": [],
   "source": [
    "kp_dir = r\"D:\\pose\\pain\\data\\annotation\\fixed_kp\"\n",
    "crop_dir = r\"D:\\pose\\pain\\data\\crop_img\"\n",
    "save_dir = r\"D:\\pose\\pain\\image_data\\crop_img\"\n",
    "hdf_set = [os.path.join(kp_dir,item) for item in os.listdir(kp_dir) if item.endswith(\".h5\")]\n",
    "column = [f'kp{item}' for item in range(34)]\n",
    "feature_df = pd.DataFrame(columns=column)\n",
    "for file in hdf_set:\n",
    "    hdf_file = pd.read_hdf(file, \"df_with_missing\")\n",
    "    hdf_file.columns = column\n",
    "    feature_df = pd.concat([feature_df, hdf_file])"
   ]
  },
  {
   "cell_type": "code",
   "execution_count": 9,
   "metadata": {},
   "outputs": [],
   "source": [
    "lab_dir = r\"D:\\pose\\pain\\image_data\"\n",
    "kp_set = set(feature_df.index)\n",
    "actions = [\"lie\", \"sit\", \"stand\"]\n",
    "x_list = []\n",
    "label_list = []\n",
    "for i, act in enumerate(actions):\n",
    "    img_set = set(os.listdir(os.path.join(lab_dir, act)))\n",
    "    img_list = list(img_set & kp_set)\n",
    "    x_list.append(feature_df.loc[img_list])\n",
    "\n",
    "    label_list.extend([i]*len(img_list))\n",
    "x =  pd.concat(x_list).values\n",
    "y = np.asarray(label_list)\n",
    "    "
   ]
  },
  {
   "cell_type": "code",
   "execution_count": 24,
   "metadata": {},
   "outputs": [
    {
     "data": {
      "text/plain": [
       "3299"
      ]
     },
     "execution_count": 24,
     "metadata": {},
     "output_type": "execute_result"
    }
   ],
   "source": [
    "len(x)"
   ]
  },
  {
   "cell_type": "code",
   "execution_count": 21,
   "metadata": {},
   "outputs": [],
   "source": [
    "from sklearn.svm import SVC\n",
    "from sklearn.decomposition import PCA\n",
    "from sklearn.pipeline import make_pipeline\n",
    "from sklearn.model_selection import train_test_split\n",
    "from sklearn.metrics import classification_report\n",
    "from sklearn.preprocessing import StandardScaler"
   ]
  },
  {
   "cell_type": "code",
   "execution_count": 22,
   "metadata": {},
   "outputs": [
    {
     "data": {
      "text/plain": [
       "0.9651515151515152"
      ]
     },
     "execution_count": 22,
     "metadata": {},
     "output_type": "execute_result"
    }
   ],
   "source": [
    "Xtrain, Xtest,ytrain,ytest = train_test_split(x, y, test_size= 0.2,random_state=40)\n",
    "svc = SVC(kernel='rbf',class_weight='balanced', decision_function_shape='ovo')\n",
    "model = make_pipeline(StandardScaler(), svc)\n",
    "model.fit(Xtrain, ytrain)\n",
    "model.score(Xtest, ytest)"
   ]
  },
  {
   "cell_type": "code",
   "execution_count": 23,
   "metadata": {},
   "outputs": [
    {
     "name": "stdout",
     "output_type": "stream",
     "text": [
      "              precision    recall  f1-score   support\n",
      "\n",
      "         lie       0.96      0.99      0.98       190\n",
      "         sit       0.99      0.95      0.97       220\n",
      "       stand       0.95      0.96      0.95       250\n",
      "\n",
      "    accuracy                           0.97       660\n",
      "   macro avg       0.97      0.97      0.97       660\n",
      "weighted avg       0.97      0.97      0.97       660\n",
      "\n"
     ]
    }
   ],
   "source": [
    "yfit = model.predict(Xtest)\n",
    "print(classification_report(ytest, yfit,target_names=[\"lie\", \"sit\", \"stand\"]))"
   ]
  },
  {
   "cell_type": "code",
   "execution_count": 20,
   "metadata": {},
   "outputs": [
    {
     "name": "stdout",
     "output_type": "stream",
     "text": [
      "              precision    recall  f1-score   support\n",
      "\n",
      "         lie       0.96      0.98      0.97       190\n",
      "         sit       0.99      0.93      0.96       220\n",
      "       stand       0.93      0.96      0.94       250\n",
      "\n",
      "    accuracy                           0.96       660\n",
      "   macro avg       0.96      0.96      0.96       660\n",
      "weighted avg       0.96      0.96      0.96       660\n",
      "\n"
     ]
    }
   ],
   "source": [
    "yfit = svc.predict(Xtest)\n",
    "print(classification_report(ytest, yfit,target_names=[\"lie\", \"sit\", \"stand\"]))"
   ]
  },
  {
   "cell_type": "code",
   "execution_count": 20,
   "metadata": {},
   "outputs": [],
   "source": [
    "\n",
    "kp_dir = r\"D:\\pose\\pain\\data\\annotation\\fixed_kp\"\n",
    "crop_dir = r\"D:\\pose\\pain\\data\\crop_img\"\n",
    "save_dir = r\"D:\\pose\\pain\\image_data\\crop_img\"\n",
    "hdf_set = [os.path.join(kp_dir,item) for item in os.listdir(kp_dir) if item.endswith(\".h5\")]\n",
    "column = [f'kp{item}' for item in range(34)]\n",
    "feature_df = pd.DataFrame(columns=column)\n",
    "for file in hdf_set:\n",
    "    hdf_file = pd.read_hdf(file, \"df_with_missing\")\n",
    "\n",
    "    selected_set = np.random.choice(hdf_file.index, 200, replace=False)\n",
    "    video_path = os.path.join(crop_dir, \"_\".join(selected_set[0].split(\"_\")[:-1]))\n",
    "    select_df = hdf_file.loc[selected_set]\n",
    "    select_df.columns = column\n",
    "    feature_df = pd.concat([feature_df, select_df])\n",
    "    for img in selected_set:\n",
    "        shutil.copy(os.path.join(video_path, img), save_dir)\n"
   ]
  },
  {
   "cell_type": "code",
   "execution_count": 23,
   "metadata": {},
   "outputs": [],
   "source": [
    "out_path = r\"D:\\pose\\pain\\image_data\\annotation\\kps\"\n",
    "feature_df.to_hdf(os.path.join(out_path, \"kp_feature.h5\"),\"df_with_missing\", format=\"table\", mode=\"w\")\n",
    "feature_df.to_csv(os.path.join(out_path, \"kp_feature.csv\"))"
   ]
  },
  {
   "cell_type": "code",
   "execution_count": 51,
   "metadata": {},
   "outputs": [
    {
     "name": "stderr",
     "output_type": "stream",
     "text": [
      "Using cache found in C:\\Users\\zhuhongyi/.cache\\torch\\hub\\ultralytics_yolov5_master\n",
      "YOLOv5  2021-11-20 torch 1.10.0 CUDA:0 (GeForce GTX 1650, 4096MiB)\n",
      "\n",
      "Fusing layers... \n",
      "Model Summary: 367 layers, 46533693 parameters, 0 gradients\n",
      "Adding AutoShape... \n"
     ]
    }
   ],
   "source": [
    "import torch\n",
    "model = torch.hub.load('ultralytics/yolov5', 'yolov5l')\n",
    "model.classes = [16]\n",
    "model.multi_label = False"
   ]
  },
  {
   "cell_type": "code",
   "execution_count": 45,
   "metadata": {},
   "outputs": [],
   "source": [
    "img = r\"D:\\pose\\pain\\data\\raw_frame\\cocker front\\cocker front_0227.jpg\""
   ]
  },
  {
   "cell_type": "code",
   "execution_count": 55,
   "metadata": {},
   "outputs": [],
   "source": [
    "model.iou = 0.45\n",
    "model.conf = 0.02\n",
    "model.classes = [16]"
   ]
  },
  {
   "cell_type": "code",
   "execution_count": 56,
   "metadata": {},
   "outputs": [],
   "source": [
    "\n",
    "result = model(img)"
   ]
  },
  {
   "cell_type": "code",
   "execution_count": 57,
   "metadata": {},
   "outputs": [],
   "source": [
    "result.show()"
   ]
  },
  {
   "cell_type": "code",
   "execution_count": 2,
   "metadata": {},
   "outputs": [],
   "source": [
    "import pandas as pd\n",
    "import numpy as np\n",
    "import itertools"
   ]
  },
  {
   "cell_type": "code",
   "execution_count": 25,
   "metadata": {},
   "outputs": [],
   "source": [
    "file = r\"D:\\pose\\pain\\data\\annotation\\fixed_kp\\binnur_side_Trim.h5\"\n",
    "test_hdf = pd.read_hdf(file,\"df_with_missing\")\n"
   ]
  },
  {
   "cell_type": "code",
   "execution_count": 22,
   "metadata": {},
   "outputs": [],
   "source": [
    "data_col = [f\"kp{i}\" for i in range(34)]\n",
    "test_hdf.columns = data_col"
   ]
  },
  {
   "cell_type": "code",
   "execution_count": 23,
   "metadata": {},
   "outputs": [
    {
     "data": {
      "text/html": [
       "<div>\n",
       "<style scoped>\n",
       "    .dataframe tbody tr th:only-of-type {\n",
       "        vertical-align: middle;\n",
       "    }\n",
       "\n",
       "    .dataframe tbody tr th {\n",
       "        vertical-align: top;\n",
       "    }\n",
       "\n",
       "    .dataframe thead th {\n",
       "        text-align: right;\n",
       "    }\n",
       "</style>\n",
       "<table border=\"1\" class=\"dataframe\">\n",
       "  <thead>\n",
       "    <tr style=\"text-align: right;\">\n",
       "      <th></th>\n",
       "      <th>kp0</th>\n",
       "      <th>kp1</th>\n",
       "      <th>kp2</th>\n",
       "      <th>kp3</th>\n",
       "      <th>kp4</th>\n",
       "      <th>kp5</th>\n",
       "      <th>kp6</th>\n",
       "      <th>kp7</th>\n",
       "      <th>kp8</th>\n",
       "      <th>kp9</th>\n",
       "      <th>...</th>\n",
       "      <th>kp24</th>\n",
       "      <th>kp25</th>\n",
       "      <th>kp26</th>\n",
       "      <th>kp27</th>\n",
       "      <th>kp28</th>\n",
       "      <th>kp29</th>\n",
       "      <th>kp30</th>\n",
       "      <th>kp31</th>\n",
       "      <th>kp32</th>\n",
       "      <th>kp33</th>\n",
       "    </tr>\n",
       "  </thead>\n",
       "  <tbody>\n",
       "    <tr>\n",
       "      <th>binnur_side_Trim_0001.jpg</th>\n",
       "      <td>0.846607</td>\n",
       "      <td>0.084661</td>\n",
       "      <td>0.694218</td>\n",
       "      <td>0.135457</td>\n",
       "      <td>0.931267</td>\n",
       "      <td>-0.101593</td>\n",
       "      <td>-0.440236</td>\n",
       "      <td>0.237050</td>\n",
       "      <td>0.440236</td>\n",
       "      <td>-0.237050</td>\n",
       "      <td>...</td>\n",
       "      <td>-0.186254</td>\n",
       "      <td>0.660353</td>\n",
       "      <td>0.893277</td>\n",
       "      <td>0.603413</td>\n",
       "      <td>0.812743</td>\n",
       "      <td>0.541828</td>\n",
       "      <td>-0.321711</td>\n",
       "      <td>0.778878</td>\n",
       "      <td>-0.033864</td>\n",
       "      <td>0.829675</td>\n",
       "    </tr>\n",
       "    <tr>\n",
       "      <th>binnur_side_Trim_0002.jpg</th>\n",
       "      <td>0.922046</td>\n",
       "      <td>0.079033</td>\n",
       "      <td>0.763981</td>\n",
       "      <td>0.131721</td>\n",
       "      <td>1.009860</td>\n",
       "      <td>-0.096595</td>\n",
       "      <td>-0.430288</td>\n",
       "      <td>0.254660</td>\n",
       "      <td>0.430288</td>\n",
       "      <td>-0.254660</td>\n",
       "      <td>...</td>\n",
       "      <td>-0.149284</td>\n",
       "      <td>0.711293</td>\n",
       "      <td>0.705759</td>\n",
       "      <td>0.311978</td>\n",
       "      <td>0.886921</td>\n",
       "      <td>0.570791</td>\n",
       "      <td>-0.289786</td>\n",
       "      <td>0.834232</td>\n",
       "      <td>-0.008781</td>\n",
       "      <td>0.851795</td>\n",
       "    </tr>\n",
       "    <tr>\n",
       "      <th>binnur_side_Trim_0003.jpg</th>\n",
       "      <td>0.766652</td>\n",
       "      <td>0.127775</td>\n",
       "      <td>0.606933</td>\n",
       "      <td>0.159719</td>\n",
       "      <td>0.862483</td>\n",
       "      <td>-0.047916</td>\n",
       "      <td>-0.447214</td>\n",
       "      <td>0.223607</td>\n",
       "      <td>0.447214</td>\n",
       "      <td>-0.223607</td>\n",
       "      <td>...</td>\n",
       "      <td>-0.191663</td>\n",
       "      <td>0.654849</td>\n",
       "      <td>0.586606</td>\n",
       "      <td>0.287419</td>\n",
       "      <td>0.766652</td>\n",
       "      <td>0.527073</td>\n",
       "      <td>-0.319438</td>\n",
       "      <td>0.766652</td>\n",
       "      <td>-0.047916</td>\n",
       "      <td>0.782624</td>\n",
       "    </tr>\n",
       "    <tr>\n",
       "      <th>binnur_side_Trim_0004.jpg</th>\n",
       "      <td>0.798596</td>\n",
       "      <td>0.143747</td>\n",
       "      <td>0.638877</td>\n",
       "      <td>0.175691</td>\n",
       "      <td>0.862483</td>\n",
       "      <td>-0.047916</td>\n",
       "      <td>-0.447214</td>\n",
       "      <td>0.223607</td>\n",
       "      <td>0.447214</td>\n",
       "      <td>-0.223607</td>\n",
       "      <td>...</td>\n",
       "      <td>-0.191663</td>\n",
       "      <td>0.638877</td>\n",
       "      <td>0.586606</td>\n",
       "      <td>0.289678</td>\n",
       "      <td>0.766652</td>\n",
       "      <td>0.527073</td>\n",
       "      <td>-0.303466</td>\n",
       "      <td>0.766652</td>\n",
       "      <td>-0.047916</td>\n",
       "      <td>0.782624</td>\n",
       "    </tr>\n",
       "    <tr>\n",
       "      <th>binnur_side_Trim_0005.jpg</th>\n",
       "      <td>0.977802</td>\n",
       "      <td>0.052382</td>\n",
       "      <td>0.873038</td>\n",
       "      <td>0.192068</td>\n",
       "      <td>0.925420</td>\n",
       "      <td>-0.069843</td>\n",
       "      <td>-0.453980</td>\n",
       "      <td>0.209529</td>\n",
       "      <td>0.453980</td>\n",
       "      <td>-0.209529</td>\n",
       "      <td>...</td>\n",
       "      <td>-0.244451</td>\n",
       "      <td>0.646048</td>\n",
       "      <td>0.611127</td>\n",
       "      <td>0.296833</td>\n",
       "      <td>0.733352</td>\n",
       "      <td>0.523823</td>\n",
       "      <td>-0.349215</td>\n",
       "      <td>0.733352</td>\n",
       "      <td>-0.087304</td>\n",
       "      <td>0.768273</td>\n",
       "    </tr>\n",
       "  </tbody>\n",
       "</table>\n",
       "<p>5 rows × 34 columns</p>\n",
       "</div>"
      ],
      "text/plain": [
       "                                kp0       kp1       kp2       kp3       kp4  \\\n",
       "binnur_side_Trim_0001.jpg  0.846607  0.084661  0.694218  0.135457  0.931267   \n",
       "binnur_side_Trim_0002.jpg  0.922046  0.079033  0.763981  0.131721  1.009860   \n",
       "binnur_side_Trim_0003.jpg  0.766652  0.127775  0.606933  0.159719  0.862483   \n",
       "binnur_side_Trim_0004.jpg  0.798596  0.143747  0.638877  0.175691  0.862483   \n",
       "binnur_side_Trim_0005.jpg  0.977802  0.052382  0.873038  0.192068  0.925420   \n",
       "\n",
       "                                kp5       kp6       kp7       kp8       kp9  \\\n",
       "binnur_side_Trim_0001.jpg -0.101593 -0.440236  0.237050  0.440236 -0.237050   \n",
       "binnur_side_Trim_0002.jpg -0.096595 -0.430288  0.254660  0.430288 -0.254660   \n",
       "binnur_side_Trim_0003.jpg -0.047916 -0.447214  0.223607  0.447214 -0.223607   \n",
       "binnur_side_Trim_0004.jpg -0.047916 -0.447214  0.223607  0.447214 -0.223607   \n",
       "binnur_side_Trim_0005.jpg -0.069843 -0.453980  0.209529  0.453980 -0.209529   \n",
       "\n",
       "                           ...      kp24      kp25      kp26      kp27  \\\n",
       "binnur_side_Trim_0001.jpg  ... -0.186254  0.660353  0.893277  0.603413   \n",
       "binnur_side_Trim_0002.jpg  ... -0.149284  0.711293  0.705759  0.311978   \n",
       "binnur_side_Trim_0003.jpg  ... -0.191663  0.654849  0.586606  0.287419   \n",
       "binnur_side_Trim_0004.jpg  ... -0.191663  0.638877  0.586606  0.289678   \n",
       "binnur_side_Trim_0005.jpg  ... -0.244451  0.646048  0.611127  0.296833   \n",
       "\n",
       "                               kp28      kp29      kp30      kp31      kp32  \\\n",
       "binnur_side_Trim_0001.jpg  0.812743  0.541828 -0.321711  0.778878 -0.033864   \n",
       "binnur_side_Trim_0002.jpg  0.886921  0.570791 -0.289786  0.834232 -0.008781   \n",
       "binnur_side_Trim_0003.jpg  0.766652  0.527073 -0.319438  0.766652 -0.047916   \n",
       "binnur_side_Trim_0004.jpg  0.766652  0.527073 -0.303466  0.766652 -0.047916   \n",
       "binnur_side_Trim_0005.jpg  0.733352  0.523823 -0.349215  0.733352 -0.087304   \n",
       "\n",
       "                               kp33  \n",
       "binnur_side_Trim_0001.jpg  0.829675  \n",
       "binnur_side_Trim_0002.jpg  0.851795  \n",
       "binnur_side_Trim_0003.jpg  0.782624  \n",
       "binnur_side_Trim_0004.jpg  0.782624  \n",
       "binnur_side_Trim_0005.jpg  0.768273  \n",
       "\n",
       "[5 rows x 34 columns]"
      ]
     },
     "execution_count": 23,
     "metadata": {},
     "output_type": "execute_result"
    }
   ],
   "source": [
    "test_hdf.head()"
   ]
  },
  {
   "cell_type": "code",
   "execution_count": 4,
   "metadata": {},
   "outputs": [],
   "source": [
    "order_list = (pd.Series(test_hdf.index)).apply(\n",
    "                lambda item: int(item.split(\"_\")[-1].strip(\"0\").split(\".\")[0]))"
   ]
  },
  {
   "cell_type": "code",
   "execution_count": 5,
   "metadata": {},
   "outputs": [],
   "source": [
    "gap = np.append(order_list.values[1:], 0)\n",
    "gap = gap - order_list.values\n",
    "gap[-1] = -gap[-1]"
   ]
  },
  {
   "cell_type": "code",
   "execution_count": 6,
   "metadata": {},
   "outputs": [],
   "source": [
    "end_point = np.arange(len(gap))[gap>9]\n",
    "start_point = np.append([0], end_point[:-1])\n",
    "ends = end_point[(end_point-start_point)>5] + 1\n",
    "starts = start_point[(end_point-start_point)>5] + 1"
   ]
  },
  {
   "cell_type": "code",
   "execution_count": 54,
   "metadata": {},
   "outputs": [
    {
     "data": {
      "text/plain": [
       "array([ 47, 280, 287, 291, 308, 353, 408, 441, 492, 510, 512, 516, 549,\n",
       "       578, 644, 645, 923])"
      ]
     },
     "execution_count": 54,
     "metadata": {},
     "output_type": "execute_result"
    }
   ],
   "source": [
    "end_point"
   ]
  },
  {
   "cell_type": "code",
   "execution_count": 39,
   "metadata": {},
   "outputs": [
    {
     "data": {
      "text/plain": [
       "1265"
      ]
     },
     "execution_count": 39,
     "metadata": {},
     "output_type": "execute_result"
    }
   ],
   "source": [
    "order_list[645]"
   ]
  },
  {
   "cell_type": "code",
   "execution_count": 33,
   "metadata": {},
   "outputs": [],
   "source": [
    "crop_file = r\"D:\\pose\\pain\\data\\annotation\\crop(1)\"\n",
    "name = \"binnur_side_Trim.h5\"\n",
    "img_inf_col = [\"x\", \"y\", \"w\", \"h\"]\n",
    "data_col = [f\"kp{i}\" for i in range(34)]\n",
    "def range_select(test_hdf,name, gap_len=9, clip_len=5):\n",
    "        order_list = (pd.Series(test_hdf.index)).apply(\n",
    "                lambda item: int(item.split(\"_\")[-1].strip(\"0\").split(\".\")[0]))\n",
    "        gap = np.append(order_list.values[1:], 0)-order_list.values\n",
    "        gap[-1] = -gap[-1]\n",
    "        end_point = np.arange(len(gap))[gap>gap_len]\n",
    "        start_point = np.append([0], end_point[:-1])\n",
    "        ends = end_point[(end_point-start_point)>clip_len] + 1\n",
    "        starts = start_point[(end_point-start_point)>clip_len] + 1\n",
    "        starts[0] = 0 if starts[0] == 1 else starts[0]\n",
    "        length = ends-starts\n",
    "        \n",
    "        clip_index = np.concatenate([list(range(s,e)) for s,e in zip(starts, ends)])\n",
    "        index_list = test_hdf.index[clip_index]\n",
    "        crop_inf = pd.read_hdf(os.path.join(crop_file, name))\n",
    "        index = pd.Series(crop_inf.index).apply(lambda item:item.split(\"\\\\\")[1])\n",
    "        crop_inf.index = index\n",
    "        crop_inf = (crop_inf.loc[index_list])[img_inf_col]\n",
    "        \n",
    "        clip_df = test_hdf.iloc[clip_index]\n",
    "        clip_df.columns = data_col\n",
    "        clip_df = pd.concat([clip_df, crop_inf], axis=1)\n",
    "        end_new = list(itertools.accumulate(length))\n",
    "        start_new = [0] + end_new[:-1]\n",
    "        index = [name]*len(start_new)\n",
    "        return pd.DataFrame({\"starts\":start_new, \"ends\":end_new, \"length\":length}, index=index), clip_df"
   ]
  },
  {
   "cell_type": "code",
   "execution_count": 34,
   "metadata": {},
   "outputs": [],
   "source": [
    "label, data = range_select(test_hdf, name)"
   ]
  },
  {
   "cell_type": "code",
   "execution_count": 29,
   "metadata": {},
   "outputs": [],
   "source": [
    "b = [list(range(s,e)) for s,e in zip(starts, ends)]"
   ]
  },
  {
   "cell_type": "code",
   "execution_count": 38,
   "metadata": {},
   "outputs": [],
   "source": [
    "import csv\n",
    "file = r\"D:\\pose\\pain\\data\\annotation\\split\\train.csv\"\n",
    "container = []\n",
    "with open(file) as f:\n",
    "    reader = csv.reader(f)\n",
    "    for line in reader:\n",
    "        container.append(line)\n",
    "del container[0]\n",
    "for item in container:\n",
    "    clip = [[item[0],i, i+5, item[-1]] for i in range(item[1],item[2]-5, 2)]\n",
    "\n"
   ]
  },
  {
   "cell_type": "code",
   "execution_count": 42,
   "metadata": {},
   "outputs": [],
   "source": [
    "item = container[0]\n",
    "clip = [[item[0],i, i+5, int(item[-1])] for i in range(int(item[1]),int(item[2])-5, 2)]"
   ]
  },
  {
   "cell_type": "code",
   "execution_count": 7,
   "metadata": {},
   "outputs": [],
   "source": [
    "import pandas as pd\n",
    "train = pd.read_hdf(\"D:/pose/pain/data/annotation/kp_valid/Akrep_OFT_Cam1_Trim.h5\", \"df_with_missing\")"
   ]
  },
  {
   "cell_type": "code",
   "execution_count": 3,
   "metadata": {},
   "outputs": [
    {
     "data": {
      "text/html": [
       "<div>\n",
       "<style scoped>\n",
       "    .dataframe tbody tr th:only-of-type {\n",
       "        vertical-align: middle;\n",
       "    }\n",
       "\n",
       "    .dataframe tbody tr th {\n",
       "        vertical-align: top;\n",
       "    }\n",
       "\n",
       "    .dataframe thead th {\n",
       "        text-align: right;\n",
       "    }\n",
       "</style>\n",
       "<table border=\"1\" class=\"dataframe\">\n",
       "  <thead>\n",
       "    <tr style=\"text-align: right;\">\n",
       "      <th></th>\n",
       "      <th>kp0</th>\n",
       "      <th>kp1</th>\n",
       "      <th>kp2</th>\n",
       "      <th>kp3</th>\n",
       "      <th>kp4</th>\n",
       "      <th>kp5</th>\n",
       "      <th>kp6</th>\n",
       "      <th>kp7</th>\n",
       "      <th>kp8</th>\n",
       "      <th>kp9</th>\n",
       "      <th>...</th>\n",
       "      <th>kp28</th>\n",
       "      <th>kp29</th>\n",
       "      <th>kp30</th>\n",
       "      <th>kp31</th>\n",
       "      <th>kp32</th>\n",
       "      <th>kp33</th>\n",
       "      <th>x</th>\n",
       "      <th>y</th>\n",
       "      <th>w</th>\n",
       "      <th>h</th>\n",
       "    </tr>\n",
       "  </thead>\n",
       "  <tbody>\n",
       "    <tr>\n",
       "      <th>Akrep_OFT_Cam1_Trim_0007.jpg</th>\n",
       "      <td>4.853627</td>\n",
       "      <td>-0.832050</td>\n",
       "      <td>2.496151</td>\n",
       "      <td>-0.277350</td>\n",
       "      <td>4.576277</td>\n",
       "      <td>-3.328201</td>\n",
       "      <td>-0.416025</td>\n",
       "      <td>0.277350</td>\n",
       "      <td>0.416025</td>\n",
       "      <td>-0.277350</td>\n",
       "      <td>...</td>\n",
       "      <td>3.466876</td>\n",
       "      <td>9.707253</td>\n",
       "      <td>-3.189526</td>\n",
       "      <td>0.277350</td>\n",
       "      <td>-2.496151</td>\n",
       "      <td>3.050851</td>\n",
       "      <td>15.0</td>\n",
       "      <td>0.0</td>\n",
       "      <td>720.0</td>\n",
       "      <td>750.0</td>\n",
       "    </tr>\n",
       "    <tr>\n",
       "      <th>Akrep_OFT_Cam1_Trim_0008.jpg</th>\n",
       "      <td>1.919290</td>\n",
       "      <td>-1.111168</td>\n",
       "      <td>1.212183</td>\n",
       "      <td>-0.656599</td>\n",
       "      <td>1.565736</td>\n",
       "      <td>-1.767767</td>\n",
       "      <td>-0.353553</td>\n",
       "      <td>0.353553</td>\n",
       "      <td>0.353553</td>\n",
       "      <td>-0.353553</td>\n",
       "      <td>...</td>\n",
       "      <td>1.515229</td>\n",
       "      <td>3.131473</td>\n",
       "      <td>-0.202031</td>\n",
       "      <td>0.252538</td>\n",
       "      <td>-0.606092</td>\n",
       "      <td>0.858630</td>\n",
       "      <td>16.0</td>\n",
       "      <td>0.0</td>\n",
       "      <td>718.0</td>\n",
       "      <td>750.0</td>\n",
       "    </tr>\n",
       "    <tr>\n",
       "      <th>Akrep_OFT_Cam1_Trim_0015.jpg</th>\n",
       "      <td>0.010720</td>\n",
       "      <td>0.122620</td>\n",
       "      <td>1.046983</td>\n",
       "      <td>-0.066026</td>\n",
       "      <td>0.801744</td>\n",
       "      <td>-0.273536</td>\n",
       "      <td>-0.499911</td>\n",
       "      <td>-0.009432</td>\n",
       "      <td>0.499911</td>\n",
       "      <td>0.009432</td>\n",
       "      <td>...</td>\n",
       "      <td>0.386724</td>\n",
       "      <td>1.537462</td>\n",
       "      <td>-0.386724</td>\n",
       "      <td>0.707421</td>\n",
       "      <td>-0.386724</td>\n",
       "      <td>0.707421</td>\n",
       "      <td>8.0</td>\n",
       "      <td>0.0</td>\n",
       "      <td>734.0</td>\n",
       "      <td>750.0</td>\n",
       "    </tr>\n",
       "    <tr>\n",
       "      <th>Akrep_OFT_Cam1_Trim_0017.jpg</th>\n",
       "      <td>-0.071247</td>\n",
       "      <td>-1.104329</td>\n",
       "      <td>0.356235</td>\n",
       "      <td>-1.068706</td>\n",
       "      <td>0.000000</td>\n",
       "      <td>-1.246823</td>\n",
       "      <td>0.035624</td>\n",
       "      <td>0.498729</td>\n",
       "      <td>-0.035624</td>\n",
       "      <td>-0.498729</td>\n",
       "      <td>...</td>\n",
       "      <td>0.480154</td>\n",
       "      <td>2.213914</td>\n",
       "      <td>-0.890588</td>\n",
       "      <td>1.745553</td>\n",
       "      <td>-0.142494</td>\n",
       "      <td>1.353694</td>\n",
       "      <td>155.0</td>\n",
       "      <td>53.0</td>\n",
       "      <td>439.0</td>\n",
       "      <td>644.0</td>\n",
       "    </tr>\n",
       "    <tr>\n",
       "      <th>Akrep_OFT_Cam1_Trim_0020.jpg</th>\n",
       "      <td>-0.877896</td>\n",
       "      <td>-0.259378</td>\n",
       "      <td>-0.532652</td>\n",
       "      <td>-0.840383</td>\n",
       "      <td>-0.758183</td>\n",
       "      <td>-0.339187</td>\n",
       "      <td>0.438948</td>\n",
       "      <td>0.239426</td>\n",
       "      <td>-0.438948</td>\n",
       "      <td>-0.239426</td>\n",
       "      <td>...</td>\n",
       "      <td>-0.199522</td>\n",
       "      <td>0.518756</td>\n",
       "      <td>-0.199522</td>\n",
       "      <td>0.798087</td>\n",
       "      <td>0.498804</td>\n",
       "      <td>0.997609</td>\n",
       "      <td>191.0</td>\n",
       "      <td>200.0</td>\n",
       "      <td>367.0</td>\n",
       "      <td>302.0</td>\n",
       "    </tr>\n",
       "  </tbody>\n",
       "</table>\n",
       "<p>5 rows × 38 columns</p>\n",
       "</div>"
      ],
      "text/plain": [
       "                                   kp0       kp1       kp2       kp3  \\\n",
       "Akrep_OFT_Cam1_Trim_0007.jpg  4.853627 -0.832050  2.496151 -0.277350   \n",
       "Akrep_OFT_Cam1_Trim_0008.jpg  1.919290 -1.111168  1.212183 -0.656599   \n",
       "Akrep_OFT_Cam1_Trim_0015.jpg  0.010720  0.122620  1.046983 -0.066026   \n",
       "Akrep_OFT_Cam1_Trim_0017.jpg -0.071247 -1.104329  0.356235 -1.068706   \n",
       "Akrep_OFT_Cam1_Trim_0020.jpg -0.877896 -0.259378 -0.532652 -0.840383   \n",
       "\n",
       "                                   kp4       kp5       kp6       kp7  \\\n",
       "Akrep_OFT_Cam1_Trim_0007.jpg  4.576277 -3.328201 -0.416025  0.277350   \n",
       "Akrep_OFT_Cam1_Trim_0008.jpg  1.565736 -1.767767 -0.353553  0.353553   \n",
       "Akrep_OFT_Cam1_Trim_0015.jpg  0.801744 -0.273536 -0.499911 -0.009432   \n",
       "Akrep_OFT_Cam1_Trim_0017.jpg  0.000000 -1.246823  0.035624  0.498729   \n",
       "Akrep_OFT_Cam1_Trim_0020.jpg -0.758183 -0.339187  0.438948  0.239426   \n",
       "\n",
       "                                   kp8       kp9  ...      kp28      kp29  \\\n",
       "Akrep_OFT_Cam1_Trim_0007.jpg  0.416025 -0.277350  ...  3.466876  9.707253   \n",
       "Akrep_OFT_Cam1_Trim_0008.jpg  0.353553 -0.353553  ...  1.515229  3.131473   \n",
       "Akrep_OFT_Cam1_Trim_0015.jpg  0.499911  0.009432  ...  0.386724  1.537462   \n",
       "Akrep_OFT_Cam1_Trim_0017.jpg -0.035624 -0.498729  ...  0.480154  2.213914   \n",
       "Akrep_OFT_Cam1_Trim_0020.jpg -0.438948 -0.239426  ... -0.199522  0.518756   \n",
       "\n",
       "                                  kp30      kp31      kp32      kp33      x  \\\n",
       "Akrep_OFT_Cam1_Trim_0007.jpg -3.189526  0.277350 -2.496151  3.050851   15.0   \n",
       "Akrep_OFT_Cam1_Trim_0008.jpg -0.202031  0.252538 -0.606092  0.858630   16.0   \n",
       "Akrep_OFT_Cam1_Trim_0015.jpg -0.386724  0.707421 -0.386724  0.707421    8.0   \n",
       "Akrep_OFT_Cam1_Trim_0017.jpg -0.890588  1.745553 -0.142494  1.353694  155.0   \n",
       "Akrep_OFT_Cam1_Trim_0020.jpg -0.199522  0.798087  0.498804  0.997609  191.0   \n",
       "\n",
       "                                  y      w      h  \n",
       "Akrep_OFT_Cam1_Trim_0007.jpg    0.0  720.0  750.0  \n",
       "Akrep_OFT_Cam1_Trim_0008.jpg    0.0  718.0  750.0  \n",
       "Akrep_OFT_Cam1_Trim_0015.jpg    0.0  734.0  750.0  \n",
       "Akrep_OFT_Cam1_Trim_0017.jpg   53.0  439.0  644.0  \n",
       "Akrep_OFT_Cam1_Trim_0020.jpg  200.0  367.0  302.0  \n",
       "\n",
       "[5 rows x 38 columns]"
      ]
     },
     "execution_count": 3,
     "metadata": {},
     "output_type": "execute_result"
    }
   ],
   "source": [
    "train.head()"
   ]
  },
  {
   "cell_type": "code",
   "execution_count": 5,
   "metadata": {},
   "outputs": [],
   "source": [
    "import numpy as np"
   ]
  },
  {
   "cell_type": "code",
   "execution_count": 8,
   "metadata": {},
   "outputs": [
    {
     "data": {
      "text/plain": [
       "(5, 10, 34)"
      ]
     },
     "execution_count": 8,
     "metadata": {},
     "output_type": "execute_result"
    }
   ],
   "source": [
    "a = train.iloc[:10,:-4].values\n",
    "b = np.stack([a]*5)\n",
    "b.shape"
   ]
  },
  {
   "cell_type": "code",
   "execution_count": 7,
   "metadata": {},
   "outputs": [
    {
     "data": {
      "text/plain": [
       "(34,)"
      ]
     },
     "execution_count": 7,
     "metadata": {},
     "output_type": "execute_result"
    }
   ],
   "source": [
    "a.shape"
   ]
  },
  {
   "cell_type": "code",
   "execution_count": 6,
   "metadata": {},
   "outputs": [],
   "source": [
    "a = train.iloc[:]\n",
    "a = a.iloc[0]"
   ]
  },
  {
   "cell_type": "code",
   "execution_count": 11,
   "metadata": {},
   "outputs": [
    {
     "data": {
      "text/plain": [
       "False"
      ]
     },
     "execution_count": 11,
     "metadata": {},
     "output_type": "execute_result"
    }
   ],
   "source": [
    "(a[[\"w\",\"h\"]]<10).all()"
   ]
  },
  {
   "cell_type": "code",
   "execution_count": 51,
   "metadata": {},
   "outputs": [],
   "source": [
    "train = train.applymap(lambda item:int(item))"
   ]
  },
  {
   "cell_type": "code",
   "execution_count": 58,
   "metadata": {},
   "outputs": [
    {
     "data": {
      "text/plain": [
       "starts     0\n",
       "ends      12\n",
       "length    12\n",
       "label      1\n",
       "Name: binnur_front_trim.h5, dtype: int64"
      ]
     },
     "execution_count": 58,
     "metadata": {},
     "output_type": "execute_result"
    }
   ],
   "source": [
    "train.iloc[0]"
   ]
  },
  {
   "cell_type": "code",
   "execution_count": 1,
   "metadata": {},
   "outputs": [],
   "source": [
    "import torch\n",
    "import time\n",
    "logits = torch.tensor([[0.1, 0.3, 0.2, 0.4],\n",
    "                       [0.5, 0.01, 0.9, 0.4]])\n",
    "targets = torch.tensor([3, 0])"
   ]
  },
  {
   "cell_type": "code",
   "execution_count": 4,
   "metadata": {},
   "outputs": [],
   "source": [
    "def acc(logits, targets,  k):\n",
    "    \n",
    "    \n",
    "    values, indices = torch.topk(logits, k=k, sorted=True)\n",
    "    y = torch.reshape(targets, [-1, 1])\n",
    "    \n",
    "    correct = (y == indices) * 1.  # 对比预测的K个值中是否包含有正确标签中的结果\n",
    "    top_k_accuracy = torch.mean(correct) * k \n",
    "    #correct = ((y == indices).any(axis=1))*1.\n",
    "    #top_k_accuracy = torch.mean(correct)\n",
    "    return top_k_accuracy\n",
    "    "
   ]
  },
  {
   "cell_type": "code",
   "execution_count": 5,
   "metadata": {},
   "outputs": [
    {
     "data": {
      "text/plain": [
       "tensor(1.)"
      ]
     },
     "execution_count": 5,
     "metadata": {},
     "output_type": "execute_result"
    }
   ],
   "source": [
    "acc(logits, targets, 2)"
   ]
  },
  {
   "cell_type": "code",
   "execution_count": 1,
   "metadata": {},
   "outputs": [],
   "source": [
    "import torch.nn as nn"
   ]
  },
  {
   "cell_type": "code",
   "execution_count": 3,
   "metadata": {},
   "outputs": [],
   "source": [
    "m = nn.Sigmoid()\n",
    "loss = nn.BCELoss()\n",
    "input = torch.randn(3, requires_grad=True)\n",
    "target = torch.empty(3).random_(2)\n",
    "output = loss(m(input), target)\n",
    "#output.backward()"
   ]
  },
  {
   "cell_type": "code",
   "execution_count": 57,
   "metadata": {},
   "outputs": [
    {
     "data": {
      "text/plain": [
       "'\\noutput.backward()\\n# Example of target with class probabilities\\ninput = torch.randn(3, 5, requires_grad=True)\\ntarget = torch.randn(3, 5).softmax(dim=1)\\noutput = loss(input, target)\\noutput.backward()\\n'"
      ]
     },
     "execution_count": 57,
     "metadata": {},
     "output_type": "execute_result"
    }
   ],
   "source": [
    "# Example of target with class indices\n",
    "loss = nn.CrossEntropyLoss()\n",
    "input = torch.randn(3, 5, requires_grad=True)\n",
    "target = torch.empty(3, dtype=torch.long).random_(5)\n",
    "output = loss(input, target)\n",
    "'''\n",
    "output.backward()\n",
    "# Example of target with class probabilities\n",
    "input = torch.randn(3, 5, requires_grad=True)\n",
    "target = torch.randn(3, 5).softmax(dim=1)\n",
    "output = loss(input, target)\n",
    "output.backward()\n",
    "'''"
   ]
  },
  {
   "cell_type": "code",
   "execution_count": 1,
   "metadata": {},
   "outputs": [],
   "source": [
    "import time"
   ]
  },
  {
   "cell_type": "code",
   "execution_count": 6,
   "metadata": {},
   "outputs": [
    {
     "name": "stdout",
     "output_type": "stream",
     "text": [
      "2660.9067509\n",
      "2660.9068379\n",
      "2660.9070053\n"
     ]
    }
   ],
   "source": [
    "print(time.perf_counter())\n",
    "import tensorflow\n",
    "print(time.perf_counter())\n",
    "import time\n",
    "print(time.perf_counter())"
   ]
  },
  {
   "cell_type": "code",
   "execution_count": 48,
   "metadata": {},
   "outputs": [
    {
     "name": "stdout",
     "output_type": "stream",
     "text": [
      "185023.9931925\n",
      "185023.994045\n"
     ]
    }
   ],
   "source": [
    "acc(logits, targets, 1)"
   ]
  },
  {
   "cell_type": "code",
   "execution_count": 27,
   "metadata": {},
   "outputs": [
    {
     "data": {
      "text/plain": [
       "tensor(0.5000)"
      ]
     },
     "execution_count": 27,
     "metadata": {},
     "output_type": "execute_result"
    }
   ],
   "source": [
    "torch.mean()"
   ]
  },
  {
   "cell_type": "code",
   "execution_count": 25,
   "metadata": {},
   "outputs": [
    {
     "ename": "RuntimeError",
     "evalue": "mean(): input dtype should be either floating point or complex dtypes. Got Long instead.",
     "output_type": "error",
     "traceback": [
      "\u001b[1;31m---------------------------------------------------------------------------\u001b[0m",
      "\u001b[1;31mRuntimeError\u001b[0m                              Traceback (most recent call last)",
      "\u001b[1;32mC:\\Users\\ZHUHON~1\\AppData\\Local\\Temp/ipykernel_9508/162130872.py\u001b[0m in \u001b[0;36m<module>\u001b[1;34m\u001b[0m\n\u001b[1;32m----> 1\u001b[1;33m \u001b[0mtorch\u001b[0m\u001b[1;33m.\u001b[0m\u001b[0mmean\u001b[0m\u001b[1;33m(\u001b[0m\u001b[1;33m(\u001b[0m\u001b[0my\u001b[0m \u001b[1;33m==\u001b[0m \u001b[0mindices\u001b[0m\u001b[1;33m)\u001b[0m \u001b[1;33m*\u001b[0m \u001b[1;36m1\u001b[0m\u001b[1;33m)\u001b[0m\u001b[1;33m\u001b[0m\u001b[1;33m\u001b[0m\u001b[0m\n\u001b[0m",
      "\u001b[1;31mRuntimeError\u001b[0m: mean(): input dtype should be either floating point or complex dtypes. Got Long instead."
     ]
    }
   ],
   "source": [
    "torch.mean((y == indices) * 1)"
   ]
  },
  {
   "cell_type": "code",
   "execution_count": 25,
   "metadata": {},
   "outputs": [],
   "source": [
    "import logging\n",
    "file = r\"..\\out\\train_record\""
   ]
  },
  {
   "cell_type": "code",
   "execution_count": 26,
   "metadata": {},
   "outputs": [],
   "source": [
    "def setup_logging(out_dir):\n",
    "    _FORMAT = \"[%(levelname)s: %(filename)s: %(lineno)4d]: %(message)s\"\n",
    "    logger = logging.getLogger()\n",
    "    logger.setLevel(logging.DEBUG)\n",
    "    logger.propagate = False\n",
    "    plain_formatter = logging.Formatter(\n",
    "        \"[%(asctime)s][%(levelname)s] %(filename)s: %(lineno)3d: %(message)s\",\n",
    "        datefmt=\"%m/%d %H:%M:%S\",\n",
    "    )\n",
    "\n",
    "    filename = os.path.join(out_dir, \"stdout.log\")\n",
    "    fh = logging.StreamHandler(open(filename))\n",
    "    fh.setLevel(logging.DEBUG)\n",
    "    fh.setFormatter(plain_formatter)\n",
    "    logger.addHandler(fh)"
   ]
  },
  {
   "cell_type": "code",
   "execution_count": 67,
   "metadata": {},
   "outputs": [],
   "source": [
    "def setup_logging():\n",
    "    logger = logging.getLogger()\n",
    "    logger.setLevel(logging.DEBUG)\n",
    "\n",
    "    # set two handlers\n",
    "    log_file = \"{}.txt\".format(__name__)\n",
    "    # rm_file(log_file)\n",
    "    fileHandler = logging.FileHandler(os.path.join(file, log_file), encoding='UTF-8', mode=\"w\")\n",
    "    fileHandler.setLevel(logging.DEBUG)\n",
    "    consoleHandler = logging.StreamHandler()\n",
    "    consoleHandler.setLevel(logging.DEBUG)\n",
    "\n",
    "    # set formatter\n",
    "    formatter = logging.Formatter('%(asctime)s - %(name)s - %(levelname)s - %(message)s')\n",
    "    consoleHandler.setFormatter(formatter)\n",
    "    fileHandler.setFormatter(formatter)\n",
    "\n",
    "    # add\n",
    "    logger.addHandler(fileHandler)\n",
    "    logger.addHandler(consoleHandler)\n",
    "    return logger\n",
    "    #logger.info(\"test\")\n"
   ]
  },
  {
   "cell_type": "code",
   "execution_count": 45,
   "metadata": {},
   "outputs": [
    {
     "data": {
      "text/plain": [
       "<Logger __main__ (DEBUG)>"
      ]
     },
     "execution_count": 45,
     "metadata": {},
     "output_type": "execute_result"
    }
   ],
   "source": [
    "setup_logging()"
   ]
  },
  {
   "cell_type": "code",
   "execution_count": 55,
   "metadata": {},
   "outputs": [
    {
     "name": "stderr",
     "output_type": "stream",
     "text": [
      "[2022-01-01 18:23:10] {739409473.py:2} INFO - gog\n",
      "[2022-01-01 18:23:10] {739409473.py:2} INFO - gog\n",
      "[2022-01-01 18:23:10] {739409473.py:2} INFO - gog\n",
      "[2022-01-01 18:23:10] {739409473.py:2} INFO - gog\n",
      "[2022-01-01 18:23:10] {739409473.py:2} INFO - gog\n",
      "[2022-01-01 18:23:10] {739409473.py:2} INFO - gog\n",
      "[2022-01-01 18:23:10] {739409473.py:2} INFO - gog\n",
      "[2022-01-01 18:23:10] {739409473.py:2} INFO - gog\n",
      "[2022-01-01 18:23:10] {739409473.py:2} INFO - gog\n",
      "[2022-01-01 18:23:10] {739409473.py:2} INFO - gog\n",
      "[2022-01-01 18:23:10] {739409473.py:2} INFO - gog\n",
      "[2022-01-01 18:23:10] {739409473.py:2} INFO - gog\n",
      "[2022-01-01 18:23:10] {739409473.py:2} INFO - gog\n",
      "[2022-01-01 18:23:10] {739409473.py:2} INFO - gog\n",
      "2022-01-01 18:23:10,666 - __main__ - INFO - gog\n",
      "--- Logging error ---\n",
      "Traceback (most recent call last):\n",
      "  File \"D:\\Users\\zhuhongyi\\Anaconda3\\envs\\open-mmlab\\lib\\logging\\__init__.py\", line 1028, in emit\n",
      "    stream.write(msg + self.terminator)\n",
      "AttributeError: 'str' object has no attribute 'write'\n",
      "Call stack:\n",
      "  File \"D:\\Users\\zhuhongyi\\Anaconda3\\envs\\open-mmlab\\lib\\runpy.py\", line 193, in _run_module_as_main\n",
      "    \"__main__\", mod_spec)\n",
      "  File \"D:\\Users\\zhuhongyi\\Anaconda3\\envs\\open-mmlab\\lib\\runpy.py\", line 85, in _run_code\n",
      "    exec(code, run_globals)\n",
      "  File \"D:\\Users\\zhuhongyi\\Anaconda3\\envs\\open-mmlab\\lib\\site-packages\\ipykernel_launcher.py\", line 16, in <module>\n",
      "    app.launch_new_instance()\n",
      "  File \"D:\\Users\\zhuhongyi\\Anaconda3\\envs\\open-mmlab\\lib\\site-packages\\traitlets\\config\\application.py\", line 846, in launch_instance\n",
      "    app.start()\n",
      "  File \"D:\\Users\\zhuhongyi\\Anaconda3\\envs\\open-mmlab\\lib\\site-packages\\ipykernel\\kernelapp.py\", line 677, in start\n",
      "    self.io_loop.start()\n",
      "  File \"D:\\Users\\zhuhongyi\\Anaconda3\\envs\\open-mmlab\\lib\\site-packages\\tornado\\platform\\asyncio.py\", line 199, in start\n",
      "    self.asyncio_loop.run_forever()\n",
      "  File \"D:\\Users\\zhuhongyi\\Anaconda3\\envs\\open-mmlab\\lib\\asyncio\\base_events.py\", line 541, in run_forever\n",
      "    self._run_once()\n",
      "  File \"D:\\Users\\zhuhongyi\\Anaconda3\\envs\\open-mmlab\\lib\\asyncio\\base_events.py\", line 1786, in _run_once\n",
      "    handle._run()\n",
      "  File \"D:\\Users\\zhuhongyi\\Anaconda3\\envs\\open-mmlab\\lib\\asyncio\\events.py\", line 88, in _run\n",
      "    self._context.run(self._callback, *self._args)\n",
      "  File \"D:\\Users\\zhuhongyi\\Anaconda3\\envs\\open-mmlab\\lib\\site-packages\\ipykernel\\kernelbase.py\", line 457, in dispatch_queue\n",
      "    await self.process_one()\n",
      "  File \"D:\\Users\\zhuhongyi\\Anaconda3\\envs\\open-mmlab\\lib\\site-packages\\ipykernel\\kernelbase.py\", line 446, in process_one\n",
      "    await dispatch(*args)\n",
      "  File \"D:\\Users\\zhuhongyi\\Anaconda3\\envs\\open-mmlab\\lib\\site-packages\\ipykernel\\kernelbase.py\", line 353, in dispatch_shell\n",
      "    await result\n",
      "  File \"D:\\Users\\zhuhongyi\\Anaconda3\\envs\\open-mmlab\\lib\\site-packages\\ipykernel\\kernelbase.py\", line 648, in execute_request\n",
      "    reply_content = await reply_content\n",
      "  File \"D:\\Users\\zhuhongyi\\Anaconda3\\envs\\open-mmlab\\lib\\site-packages\\ipykernel\\ipkernel.py\", line 353, in do_execute\n",
      "    res = shell.run_cell(code, store_history=store_history, silent=silent)\n",
      "  File \"D:\\Users\\zhuhongyi\\Anaconda3\\envs\\open-mmlab\\lib\\site-packages\\ipykernel\\zmqshell.py\", line 533, in run_cell\n",
      "    return super(ZMQInteractiveShell, self).run_cell(*args, **kwargs)\n",
      "  File \"D:\\Users\\zhuhongyi\\Anaconda3\\envs\\open-mmlab\\lib\\site-packages\\IPython\\core\\interactiveshell.py\", line 2902, in run_cell\n",
      "    raw_cell, store_history, silent, shell_futures)\n",
      "  File \"D:\\Users\\zhuhongyi\\Anaconda3\\envs\\open-mmlab\\lib\\site-packages\\IPython\\core\\interactiveshell.py\", line 2947, in _run_cell\n",
      "    return runner(coro)\n",
      "  File \"D:\\Users\\zhuhongyi\\Anaconda3\\envs\\open-mmlab\\lib\\site-packages\\IPython\\core\\async_helpers.py\", line 68, in _pseudo_sync_runner\n",
      "    coro.send(None)\n",
      "  File \"D:\\Users\\zhuhongyi\\Anaconda3\\envs\\open-mmlab\\lib\\site-packages\\IPython\\core\\interactiveshell.py\", line 3173, in run_cell_async\n",
      "    interactivity=interactivity, compiler=compiler, result=result)\n",
      "  File \"D:\\Users\\zhuhongyi\\Anaconda3\\envs\\open-mmlab\\lib\\site-packages\\IPython\\core\\interactiveshell.py\", line 3364, in run_ast_nodes\n",
      "    if (await self.run_code(code, result,  async_=asy)):\n",
      "  File \"D:\\Users\\zhuhongyi\\Anaconda3\\envs\\open-mmlab\\lib\\site-packages\\IPython\\core\\interactiveshell.py\", line 3444, in run_code\n",
      "    exec(code_obj, self.user_global_ns, self.user_ns)\n",
      "  File \"C:\\Users\\ZHUHON~1\\AppData\\Local\\Temp/ipykernel_22216/739409473.py\", line 2, in <module>\n",
      "    log.info(\"gog\")\n",
      "Message: 'gog'\n",
      "Arguments: ()\n",
      "--- Logging error ---\n",
      "Traceback (most recent call last):\n",
      "  File \"D:\\Users\\zhuhongyi\\Anaconda3\\envs\\open-mmlab\\lib\\logging\\__init__.py\", line 1028, in emit\n",
      "    stream.write(msg + self.terminator)\n",
      "AttributeError: 'str' object has no attribute 'write'\n",
      "Call stack:\n",
      "  File \"D:\\Users\\zhuhongyi\\Anaconda3\\envs\\open-mmlab\\lib\\runpy.py\", line 193, in _run_module_as_main\n",
      "    \"__main__\", mod_spec)\n",
      "  File \"D:\\Users\\zhuhongyi\\Anaconda3\\envs\\open-mmlab\\lib\\runpy.py\", line 85, in _run_code\n",
      "    exec(code, run_globals)\n",
      "  File \"D:\\Users\\zhuhongyi\\Anaconda3\\envs\\open-mmlab\\lib\\site-packages\\ipykernel_launcher.py\", line 16, in <module>\n",
      "    app.launch_new_instance()\n",
      "  File \"D:\\Users\\zhuhongyi\\Anaconda3\\envs\\open-mmlab\\lib\\site-packages\\traitlets\\config\\application.py\", line 846, in launch_instance\n",
      "    app.start()\n",
      "  File \"D:\\Users\\zhuhongyi\\Anaconda3\\envs\\open-mmlab\\lib\\site-packages\\ipykernel\\kernelapp.py\", line 677, in start\n",
      "    self.io_loop.start()\n",
      "  File \"D:\\Users\\zhuhongyi\\Anaconda3\\envs\\open-mmlab\\lib\\site-packages\\tornado\\platform\\asyncio.py\", line 199, in start\n",
      "    self.asyncio_loop.run_forever()\n",
      "  File \"D:\\Users\\zhuhongyi\\Anaconda3\\envs\\open-mmlab\\lib\\asyncio\\base_events.py\", line 541, in run_forever\n",
      "    self._run_once()\n",
      "  File \"D:\\Users\\zhuhongyi\\Anaconda3\\envs\\open-mmlab\\lib\\asyncio\\base_events.py\", line 1786, in _run_once\n",
      "    handle._run()\n",
      "  File \"D:\\Users\\zhuhongyi\\Anaconda3\\envs\\open-mmlab\\lib\\asyncio\\events.py\", line 88, in _run\n",
      "    self._context.run(self._callback, *self._args)\n",
      "  File \"D:\\Users\\zhuhongyi\\Anaconda3\\envs\\open-mmlab\\lib\\site-packages\\ipykernel\\kernelbase.py\", line 457, in dispatch_queue\n",
      "    await self.process_one()\n",
      "  File \"D:\\Users\\zhuhongyi\\Anaconda3\\envs\\open-mmlab\\lib\\site-packages\\ipykernel\\kernelbase.py\", line 446, in process_one\n",
      "    await dispatch(*args)\n",
      "  File \"D:\\Users\\zhuhongyi\\Anaconda3\\envs\\open-mmlab\\lib\\site-packages\\ipykernel\\kernelbase.py\", line 353, in dispatch_shell\n",
      "    await result\n",
      "  File \"D:\\Users\\zhuhongyi\\Anaconda3\\envs\\open-mmlab\\lib\\site-packages\\ipykernel\\kernelbase.py\", line 648, in execute_request\n",
      "    reply_content = await reply_content\n",
      "  File \"D:\\Users\\zhuhongyi\\Anaconda3\\envs\\open-mmlab\\lib\\site-packages\\ipykernel\\ipkernel.py\", line 353, in do_execute\n",
      "    res = shell.run_cell(code, store_history=store_history, silent=silent)\n",
      "  File \"D:\\Users\\zhuhongyi\\Anaconda3\\envs\\open-mmlab\\lib\\site-packages\\ipykernel\\zmqshell.py\", line 533, in run_cell\n",
      "    return super(ZMQInteractiveShell, self).run_cell(*args, **kwargs)\n",
      "  File \"D:\\Users\\zhuhongyi\\Anaconda3\\envs\\open-mmlab\\lib\\site-packages\\IPython\\core\\interactiveshell.py\", line 2902, in run_cell\n",
      "    raw_cell, store_history, silent, shell_futures)\n",
      "  File \"D:\\Users\\zhuhongyi\\Anaconda3\\envs\\open-mmlab\\lib\\site-packages\\IPython\\core\\interactiveshell.py\", line 2947, in _run_cell\n",
      "    return runner(coro)\n",
      "  File \"D:\\Users\\zhuhongyi\\Anaconda3\\envs\\open-mmlab\\lib\\site-packages\\IPython\\core\\async_helpers.py\", line 68, in _pseudo_sync_runner\n",
      "    coro.send(None)\n",
      "  File \"D:\\Users\\zhuhongyi\\Anaconda3\\envs\\open-mmlab\\lib\\site-packages\\IPython\\core\\interactiveshell.py\", line 3173, in run_cell_async\n",
      "    interactivity=interactivity, compiler=compiler, result=result)\n",
      "  File \"D:\\Users\\zhuhongyi\\Anaconda3\\envs\\open-mmlab\\lib\\site-packages\\IPython\\core\\interactiveshell.py\", line 3364, in run_ast_nodes\n",
      "    if (await self.run_code(code, result,  async_=asy)):\n",
      "  File \"D:\\Users\\zhuhongyi\\Anaconda3\\envs\\open-mmlab\\lib\\site-packages\\IPython\\core\\interactiveshell.py\", line 3444, in run_code\n",
      "    exec(code_obj, self.user_global_ns, self.user_ns)\n",
      "  File \"C:\\Users\\ZHUHON~1\\AppData\\Local\\Temp/ipykernel_22216/739409473.py\", line 2, in <module>\n",
      "    log.info(\"gog\")\n",
      "Message: 'gog'\n",
      "Arguments: ()\n",
      "--- Logging error ---\n",
      "Traceback (most recent call last):\n",
      "  File \"D:\\Users\\zhuhongyi\\Anaconda3\\envs\\open-mmlab\\lib\\logging\\__init__.py\", line 1028, in emit\n",
      "    stream.write(msg + self.terminator)\n",
      "AttributeError: 'str' object has no attribute 'write'\n",
      "Call stack:\n",
      "  File \"D:\\Users\\zhuhongyi\\Anaconda3\\envs\\open-mmlab\\lib\\runpy.py\", line 193, in _run_module_as_main\n",
      "    \"__main__\", mod_spec)\n",
      "  File \"D:\\Users\\zhuhongyi\\Anaconda3\\envs\\open-mmlab\\lib\\runpy.py\", line 85, in _run_code\n",
      "    exec(code, run_globals)\n",
      "  File \"D:\\Users\\zhuhongyi\\Anaconda3\\envs\\open-mmlab\\lib\\site-packages\\ipykernel_launcher.py\", line 16, in <module>\n",
      "    app.launch_new_instance()\n",
      "  File \"D:\\Users\\zhuhongyi\\Anaconda3\\envs\\open-mmlab\\lib\\site-packages\\traitlets\\config\\application.py\", line 846, in launch_instance\n",
      "    app.start()\n",
      "  File \"D:\\Users\\zhuhongyi\\Anaconda3\\envs\\open-mmlab\\lib\\site-packages\\ipykernel\\kernelapp.py\", line 677, in start\n",
      "    self.io_loop.start()\n",
      "  File \"D:\\Users\\zhuhongyi\\Anaconda3\\envs\\open-mmlab\\lib\\site-packages\\tornado\\platform\\asyncio.py\", line 199, in start\n",
      "    self.asyncio_loop.run_forever()\n",
      "  File \"D:\\Users\\zhuhongyi\\Anaconda3\\envs\\open-mmlab\\lib\\asyncio\\base_events.py\", line 541, in run_forever\n",
      "    self._run_once()\n",
      "  File \"D:\\Users\\zhuhongyi\\Anaconda3\\envs\\open-mmlab\\lib\\asyncio\\base_events.py\", line 1786, in _run_once\n",
      "    handle._run()\n",
      "  File \"D:\\Users\\zhuhongyi\\Anaconda3\\envs\\open-mmlab\\lib\\asyncio\\events.py\", line 88, in _run\n",
      "    self._context.run(self._callback, *self._args)\n",
      "  File \"D:\\Users\\zhuhongyi\\Anaconda3\\envs\\open-mmlab\\lib\\site-packages\\ipykernel\\kernelbase.py\", line 457, in dispatch_queue\n",
      "    await self.process_one()\n",
      "  File \"D:\\Users\\zhuhongyi\\Anaconda3\\envs\\open-mmlab\\lib\\site-packages\\ipykernel\\kernelbase.py\", line 446, in process_one\n",
      "    await dispatch(*args)\n",
      "  File \"D:\\Users\\zhuhongyi\\Anaconda3\\envs\\open-mmlab\\lib\\site-packages\\ipykernel\\kernelbase.py\", line 353, in dispatch_shell\n",
      "    await result\n",
      "  File \"D:\\Users\\zhuhongyi\\Anaconda3\\envs\\open-mmlab\\lib\\site-packages\\ipykernel\\kernelbase.py\", line 648, in execute_request\n",
      "    reply_content = await reply_content\n",
      "  File \"D:\\Users\\zhuhongyi\\Anaconda3\\envs\\open-mmlab\\lib\\site-packages\\ipykernel\\ipkernel.py\", line 353, in do_execute\n",
      "    res = shell.run_cell(code, store_history=store_history, silent=silent)\n",
      "  File \"D:\\Users\\zhuhongyi\\Anaconda3\\envs\\open-mmlab\\lib\\site-packages\\ipykernel\\zmqshell.py\", line 533, in run_cell\n",
      "    return super(ZMQInteractiveShell, self).run_cell(*args, **kwargs)\n",
      "  File \"D:\\Users\\zhuhongyi\\Anaconda3\\envs\\open-mmlab\\lib\\site-packages\\IPython\\core\\interactiveshell.py\", line 2902, in run_cell\n",
      "    raw_cell, store_history, silent, shell_futures)\n",
      "  File \"D:\\Users\\zhuhongyi\\Anaconda3\\envs\\open-mmlab\\lib\\site-packages\\IPython\\core\\interactiveshell.py\", line 2947, in _run_cell\n",
      "    return runner(coro)\n",
      "  File \"D:\\Users\\zhuhongyi\\Anaconda3\\envs\\open-mmlab\\lib\\site-packages\\IPython\\core\\async_helpers.py\", line 68, in _pseudo_sync_runner\n",
      "    coro.send(None)\n",
      "  File \"D:\\Users\\zhuhongyi\\Anaconda3\\envs\\open-mmlab\\lib\\site-packages\\IPython\\core\\interactiveshell.py\", line 3173, in run_cell_async\n",
      "    interactivity=interactivity, compiler=compiler, result=result)\n",
      "  File \"D:\\Users\\zhuhongyi\\Anaconda3\\envs\\open-mmlab\\lib\\site-packages\\IPython\\core\\interactiveshell.py\", line 3364, in run_ast_nodes\n",
      "    if (await self.run_code(code, result,  async_=asy)):\n",
      "  File \"D:\\Users\\zhuhongyi\\Anaconda3\\envs\\open-mmlab\\lib\\site-packages\\IPython\\core\\interactiveshell.py\", line 3444, in run_code\n",
      "    exec(code_obj, self.user_global_ns, self.user_ns)\n",
      "  File \"C:\\Users\\ZHUHON~1\\AppData\\Local\\Temp/ipykernel_22216/739409473.py\", line 2, in <module>\n",
      "    log.info(\"gog\")\n",
      "Message: 'gog'\n",
      "Arguments: ()\n",
      "--- Logging error ---\n",
      "Traceback (most recent call last):\n",
      "  File \"D:\\Users\\zhuhongyi\\Anaconda3\\envs\\open-mmlab\\lib\\logging\\__init__.py\", line 1028, in emit\n",
      "    stream.write(msg + self.terminator)\n",
      "io.UnsupportedOperation: not writable\n",
      "Call stack:\n",
      "  File \"D:\\Users\\zhuhongyi\\Anaconda3\\envs\\open-mmlab\\lib\\runpy.py\", line 193, in _run_module_as_main\n",
      "    \"__main__\", mod_spec)\n",
      "  File \"D:\\Users\\zhuhongyi\\Anaconda3\\envs\\open-mmlab\\lib\\runpy.py\", line 85, in _run_code\n",
      "    exec(code, run_globals)\n",
      "  File \"D:\\Users\\zhuhongyi\\Anaconda3\\envs\\open-mmlab\\lib\\site-packages\\ipykernel_launcher.py\", line 16, in <module>\n",
      "    app.launch_new_instance()\n",
      "  File \"D:\\Users\\zhuhongyi\\Anaconda3\\envs\\open-mmlab\\lib\\site-packages\\traitlets\\config\\application.py\", line 846, in launch_instance\n",
      "    app.start()\n",
      "  File \"D:\\Users\\zhuhongyi\\Anaconda3\\envs\\open-mmlab\\lib\\site-packages\\ipykernel\\kernelapp.py\", line 677, in start\n",
      "    self.io_loop.start()\n",
      "  File \"D:\\Users\\zhuhongyi\\Anaconda3\\envs\\open-mmlab\\lib\\site-packages\\tornado\\platform\\asyncio.py\", line 199, in start\n",
      "    self.asyncio_loop.run_forever()\n",
      "  File \"D:\\Users\\zhuhongyi\\Anaconda3\\envs\\open-mmlab\\lib\\asyncio\\base_events.py\", line 541, in run_forever\n",
      "    self._run_once()\n",
      "  File \"D:\\Users\\zhuhongyi\\Anaconda3\\envs\\open-mmlab\\lib\\asyncio\\base_events.py\", line 1786, in _run_once\n",
      "    handle._run()\n",
      "  File \"D:\\Users\\zhuhongyi\\Anaconda3\\envs\\open-mmlab\\lib\\asyncio\\events.py\", line 88, in _run\n",
      "    self._context.run(self._callback, *self._args)\n",
      "  File \"D:\\Users\\zhuhongyi\\Anaconda3\\envs\\open-mmlab\\lib\\site-packages\\ipykernel\\kernelbase.py\", line 457, in dispatch_queue\n",
      "    await self.process_one()\n",
      "  File \"D:\\Users\\zhuhongyi\\Anaconda3\\envs\\open-mmlab\\lib\\site-packages\\ipykernel\\kernelbase.py\", line 446, in process_one\n",
      "    await dispatch(*args)\n",
      "  File \"D:\\Users\\zhuhongyi\\Anaconda3\\envs\\open-mmlab\\lib\\site-packages\\ipykernel\\kernelbase.py\", line 353, in dispatch_shell\n",
      "    await result\n",
      "  File \"D:\\Users\\zhuhongyi\\Anaconda3\\envs\\open-mmlab\\lib\\site-packages\\ipykernel\\kernelbase.py\", line 648, in execute_request\n",
      "    reply_content = await reply_content\n",
      "  File \"D:\\Users\\zhuhongyi\\Anaconda3\\envs\\open-mmlab\\lib\\site-packages\\ipykernel\\ipkernel.py\", line 353, in do_execute\n",
      "    res = shell.run_cell(code, store_history=store_history, silent=silent)\n",
      "  File \"D:\\Users\\zhuhongyi\\Anaconda3\\envs\\open-mmlab\\lib\\site-packages\\ipykernel\\zmqshell.py\", line 533, in run_cell\n",
      "    return super(ZMQInteractiveShell, self).run_cell(*args, **kwargs)\n",
      "  File \"D:\\Users\\zhuhongyi\\Anaconda3\\envs\\open-mmlab\\lib\\site-packages\\IPython\\core\\interactiveshell.py\", line 2902, in run_cell\n",
      "    raw_cell, store_history, silent, shell_futures)\n",
      "  File \"D:\\Users\\zhuhongyi\\Anaconda3\\envs\\open-mmlab\\lib\\site-packages\\IPython\\core\\interactiveshell.py\", line 2947, in _run_cell\n",
      "    return runner(coro)\n",
      "  File \"D:\\Users\\zhuhongyi\\Anaconda3\\envs\\open-mmlab\\lib\\site-packages\\IPython\\core\\async_helpers.py\", line 68, in _pseudo_sync_runner\n",
      "    coro.send(None)\n",
      "  File \"D:\\Users\\zhuhongyi\\Anaconda3\\envs\\open-mmlab\\lib\\site-packages\\IPython\\core\\interactiveshell.py\", line 3173, in run_cell_async\n",
      "    interactivity=interactivity, compiler=compiler, result=result)\n",
      "  File \"D:\\Users\\zhuhongyi\\Anaconda3\\envs\\open-mmlab\\lib\\site-packages\\IPython\\core\\interactiveshell.py\", line 3364, in run_ast_nodes\n",
      "    if (await self.run_code(code, result,  async_=asy)):\n",
      "  File \"D:\\Users\\zhuhongyi\\Anaconda3\\envs\\open-mmlab\\lib\\site-packages\\IPython\\core\\interactiveshell.py\", line 3444, in run_code\n",
      "    exec(code_obj, self.user_global_ns, self.user_ns)\n",
      "  File \"C:\\Users\\ZHUHON~1\\AppData\\Local\\Temp/ipykernel_22216/739409473.py\", line 2, in <module>\n",
      "    log.info(\"gog\")\n",
      "Message: 'gog'\n",
      "Arguments: ()\n",
      "--- Logging error ---\n",
      "Traceback (most recent call last):\n",
      "  File \"D:\\Users\\zhuhongyi\\Anaconda3\\envs\\open-mmlab\\lib\\logging\\__init__.py\", line 1028, in emit\n",
      "    stream.write(msg + self.terminator)\n",
      "io.UnsupportedOperation: not writable\n",
      "Call stack:\n",
      "  File \"D:\\Users\\zhuhongyi\\Anaconda3\\envs\\open-mmlab\\lib\\runpy.py\", line 193, in _run_module_as_main\n",
      "    \"__main__\", mod_spec)\n",
      "  File \"D:\\Users\\zhuhongyi\\Anaconda3\\envs\\open-mmlab\\lib\\runpy.py\", line 85, in _run_code\n",
      "    exec(code, run_globals)\n",
      "  File \"D:\\Users\\zhuhongyi\\Anaconda3\\envs\\open-mmlab\\lib\\site-packages\\ipykernel_launcher.py\", line 16, in <module>\n",
      "    app.launch_new_instance()\n",
      "  File \"D:\\Users\\zhuhongyi\\Anaconda3\\envs\\open-mmlab\\lib\\site-packages\\traitlets\\config\\application.py\", line 846, in launch_instance\n",
      "    app.start()\n",
      "  File \"D:\\Users\\zhuhongyi\\Anaconda3\\envs\\open-mmlab\\lib\\site-packages\\ipykernel\\kernelapp.py\", line 677, in start\n",
      "    self.io_loop.start()\n",
      "  File \"D:\\Users\\zhuhongyi\\Anaconda3\\envs\\open-mmlab\\lib\\site-packages\\tornado\\platform\\asyncio.py\", line 199, in start\n",
      "    self.asyncio_loop.run_forever()\n",
      "  File \"D:\\Users\\zhuhongyi\\Anaconda3\\envs\\open-mmlab\\lib\\asyncio\\base_events.py\", line 541, in run_forever\n",
      "    self._run_once()\n",
      "  File \"D:\\Users\\zhuhongyi\\Anaconda3\\envs\\open-mmlab\\lib\\asyncio\\base_events.py\", line 1786, in _run_once\n",
      "    handle._run()\n",
      "  File \"D:\\Users\\zhuhongyi\\Anaconda3\\envs\\open-mmlab\\lib\\asyncio\\events.py\", line 88, in _run\n",
      "    self._context.run(self._callback, *self._args)\n",
      "  File \"D:\\Users\\zhuhongyi\\Anaconda3\\envs\\open-mmlab\\lib\\site-packages\\ipykernel\\kernelbase.py\", line 457, in dispatch_queue\n",
      "    await self.process_one()\n",
      "  File \"D:\\Users\\zhuhongyi\\Anaconda3\\envs\\open-mmlab\\lib\\site-packages\\ipykernel\\kernelbase.py\", line 446, in process_one\n",
      "    await dispatch(*args)\n",
      "  File \"D:\\Users\\zhuhongyi\\Anaconda3\\envs\\open-mmlab\\lib\\site-packages\\ipykernel\\kernelbase.py\", line 353, in dispatch_shell\n",
      "    await result\n",
      "  File \"D:\\Users\\zhuhongyi\\Anaconda3\\envs\\open-mmlab\\lib\\site-packages\\ipykernel\\kernelbase.py\", line 648, in execute_request\n",
      "    reply_content = await reply_content\n",
      "  File \"D:\\Users\\zhuhongyi\\Anaconda3\\envs\\open-mmlab\\lib\\site-packages\\ipykernel\\ipkernel.py\", line 353, in do_execute\n",
      "    res = shell.run_cell(code, store_history=store_history, silent=silent)\n",
      "  File \"D:\\Users\\zhuhongyi\\Anaconda3\\envs\\open-mmlab\\lib\\site-packages\\ipykernel\\zmqshell.py\", line 533, in run_cell\n",
      "    return super(ZMQInteractiveShell, self).run_cell(*args, **kwargs)\n",
      "  File \"D:\\Users\\zhuhongyi\\Anaconda3\\envs\\open-mmlab\\lib\\site-packages\\IPython\\core\\interactiveshell.py\", line 2902, in run_cell\n",
      "    raw_cell, store_history, silent, shell_futures)\n",
      "  File \"D:\\Users\\zhuhongyi\\Anaconda3\\envs\\open-mmlab\\lib\\site-packages\\IPython\\core\\interactiveshell.py\", line 2947, in _run_cell\n",
      "    return runner(coro)\n",
      "  File \"D:\\Users\\zhuhongyi\\Anaconda3\\envs\\open-mmlab\\lib\\site-packages\\IPython\\core\\async_helpers.py\", line 68, in _pseudo_sync_runner\n",
      "    coro.send(None)\n",
      "  File \"D:\\Users\\zhuhongyi\\Anaconda3\\envs\\open-mmlab\\lib\\site-packages\\IPython\\core\\interactiveshell.py\", line 3173, in run_cell_async\n",
      "    interactivity=interactivity, compiler=compiler, result=result)\n",
      "  File \"D:\\Users\\zhuhongyi\\Anaconda3\\envs\\open-mmlab\\lib\\site-packages\\IPython\\core\\interactiveshell.py\", line 3364, in run_ast_nodes\n",
      "    if (await self.run_code(code, result,  async_=asy)):\n",
      "  File \"D:\\Users\\zhuhongyi\\Anaconda3\\envs\\open-mmlab\\lib\\site-packages\\IPython\\core\\interactiveshell.py\", line 3444, in run_code\n",
      "    exec(code_obj, self.user_global_ns, self.user_ns)\n",
      "  File \"C:\\Users\\ZHUHON~1\\AppData\\Local\\Temp/ipykernel_22216/739409473.py\", line 2, in <module>\n",
      "    log.info(\"gog\")\n",
      "Message: 'gog'\n",
      "Arguments: ()\n"
     ]
    }
   ],
   "source": [
    "\n",
    "log = setup_logging()\n",
    "log.info(\"gog\")"
   ]
  },
  {
   "cell_type": "code",
   "execution_count": 68,
   "metadata": {},
   "outputs": [],
   "source": [
    "def logger_config(log_path,logging_name):\n",
    "    '''\n",
    "    配置log\n",
    "    :param log_path: 输出log路径\n",
    "    :param logging_name: 记录中name，可随意\n",
    "    :return:\n",
    "    '''\n",
    "    '''\n",
    "    logger是日志对象，handler是流处理器，console是控制台输出（没有console也可以，将不会在控制台输出，会在日志文件中输出）\n",
    "    '''\n",
    "    # 获取logger对象,取名\n",
    "    logger = logging.getLogger()\n",
    "    # 输出DEBUG及以上级别的信息，针对所有输出的第一层过滤\n",
    "    logger.setLevel(level=logging.DEBUG)\n",
    "    # 获取文件日志句柄并设置日志级别，第二层过滤\n",
    "    log_path = os.path.join(log_path, \"test2.text\")\n",
    "    handler = logging.FileHandler(log_path, encoding='UTF-8')\n",
    "    handler.setLevel(logging.INFO)\n",
    "    # 生成并设置文件日志格式\n",
    "    formatter = logging.Formatter('%(asctime)s - %(name)s - %(levelname)s - %(message)s')\n",
    "    handler.setFormatter(formatter)\n",
    "    # console相当于控制台输出，handler文件输出。获取流句柄并设置日志级别，第二层过滤\n",
    "    console = logging.StreamHandler()\n",
    "    console.setLevel(logging.DEBUG)\n",
    "    # 为logger对象添加句柄\n",
    "    logger.addHandler(handler)\n",
    "    logger.addHandler(console)\n",
    "    \n",
    "\n"
   ]
  },
  {
   "cell_type": "code",
   "execution_count": 71,
   "metadata": {},
   "outputs": [
    {
     "name": "stderr",
     "output_type": "stream",
     "text": [
      "set2\n",
      "set2\n",
      "set2\n",
      "set2\n",
      "set2\n",
      "--- Logging error ---\n",
      "Traceback (most recent call last):\n",
      "  File \"D:\\Users\\zhuhongyi\\Anaconda3\\envs\\open-mmlab\\lib\\logging\\__init__.py\", line 1028, in emit\n",
      "    stream.write(msg + self.terminator)\n",
      "AttributeError: 'str' object has no attribute 'write'\n",
      "Call stack:\n",
      "  File \"D:\\Users\\zhuhongyi\\Anaconda3\\envs\\open-mmlab\\lib\\runpy.py\", line 193, in _run_module_as_main\n",
      "    \"__main__\", mod_spec)\n",
      "  File \"D:\\Users\\zhuhongyi\\Anaconda3\\envs\\open-mmlab\\lib\\runpy.py\", line 85, in _run_code\n",
      "    exec(code, run_globals)\n",
      "  File \"D:\\Users\\zhuhongyi\\Anaconda3\\envs\\open-mmlab\\lib\\site-packages\\ipykernel_launcher.py\", line 16, in <module>\n",
      "    app.launch_new_instance()\n",
      "  File \"D:\\Users\\zhuhongyi\\Anaconda3\\envs\\open-mmlab\\lib\\site-packages\\traitlets\\config\\application.py\", line 846, in launch_instance\n",
      "    app.start()\n",
      "  File \"D:\\Users\\zhuhongyi\\Anaconda3\\envs\\open-mmlab\\lib\\site-packages\\ipykernel\\kernelapp.py\", line 677, in start\n",
      "    self.io_loop.start()\n",
      "  File \"D:\\Users\\zhuhongyi\\Anaconda3\\envs\\open-mmlab\\lib\\site-packages\\tornado\\platform\\asyncio.py\", line 199, in start\n",
      "    self.asyncio_loop.run_forever()\n",
      "  File \"D:\\Users\\zhuhongyi\\Anaconda3\\envs\\open-mmlab\\lib\\asyncio\\base_events.py\", line 541, in run_forever\n",
      "    self._run_once()\n",
      "  File \"D:\\Users\\zhuhongyi\\Anaconda3\\envs\\open-mmlab\\lib\\asyncio\\base_events.py\", line 1786, in _run_once\n",
      "    handle._run()\n",
      "  File \"D:\\Users\\zhuhongyi\\Anaconda3\\envs\\open-mmlab\\lib\\asyncio\\events.py\", line 88, in _run\n",
      "    self._context.run(self._callback, *self._args)\n",
      "  File \"D:\\Users\\zhuhongyi\\Anaconda3\\envs\\open-mmlab\\lib\\site-packages\\ipykernel\\kernelbase.py\", line 457, in dispatch_queue\n",
      "    await self.process_one()\n",
      "  File \"D:\\Users\\zhuhongyi\\Anaconda3\\envs\\open-mmlab\\lib\\site-packages\\ipykernel\\kernelbase.py\", line 446, in process_one\n",
      "    await dispatch(*args)\n",
      "  File \"D:\\Users\\zhuhongyi\\Anaconda3\\envs\\open-mmlab\\lib\\site-packages\\ipykernel\\kernelbase.py\", line 353, in dispatch_shell\n",
      "    await result\n",
      "  File \"D:\\Users\\zhuhongyi\\Anaconda3\\envs\\open-mmlab\\lib\\site-packages\\ipykernel\\kernelbase.py\", line 648, in execute_request\n",
      "    reply_content = await reply_content\n",
      "  File \"D:\\Users\\zhuhongyi\\Anaconda3\\envs\\open-mmlab\\lib\\site-packages\\ipykernel\\ipkernel.py\", line 353, in do_execute\n",
      "    res = shell.run_cell(code, store_history=store_history, silent=silent)\n",
      "  File \"D:\\Users\\zhuhongyi\\Anaconda3\\envs\\open-mmlab\\lib\\site-packages\\ipykernel\\zmqshell.py\", line 533, in run_cell\n",
      "    return super(ZMQInteractiveShell, self).run_cell(*args, **kwargs)\n",
      "  File \"D:\\Users\\zhuhongyi\\Anaconda3\\envs\\open-mmlab\\lib\\site-packages\\IPython\\core\\interactiveshell.py\", line 2902, in run_cell\n",
      "    raw_cell, store_history, silent, shell_futures)\n",
      "  File \"D:\\Users\\zhuhongyi\\Anaconda3\\envs\\open-mmlab\\lib\\site-packages\\IPython\\core\\interactiveshell.py\", line 2947, in _run_cell\n",
      "    return runner(coro)\n",
      "  File \"D:\\Users\\zhuhongyi\\Anaconda3\\envs\\open-mmlab\\lib\\site-packages\\IPython\\core\\async_helpers.py\", line 68, in _pseudo_sync_runner\n",
      "    coro.send(None)\n",
      "  File \"D:\\Users\\zhuhongyi\\Anaconda3\\envs\\open-mmlab\\lib\\site-packages\\IPython\\core\\interactiveshell.py\", line 3173, in run_cell_async\n",
      "    interactivity=interactivity, compiler=compiler, result=result)\n",
      "  File \"D:\\Users\\zhuhongyi\\Anaconda3\\envs\\open-mmlab\\lib\\site-packages\\IPython\\core\\interactiveshell.py\", line 3364, in run_ast_nodes\n",
      "    if (await self.run_code(code, result,  async_=asy)):\n",
      "  File \"D:\\Users\\zhuhongyi\\Anaconda3\\envs\\open-mmlab\\lib\\site-packages\\IPython\\core\\interactiveshell.py\", line 3444, in run_code\n",
      "    exec(code_obj, self.user_global_ns, self.user_ns)\n",
      "  File \"C:\\Users\\ZHUHON~1\\AppData\\Local\\Temp/ipykernel_22216/3963110451.py\", line 3, in <module>\n",
      "    logger.info(\"set2\")\n",
      "Message: 'set2'\n",
      "Arguments: ()\n",
      "--- Logging error ---\n",
      "Traceback (most recent call last):\n",
      "  File \"D:\\Users\\zhuhongyi\\Anaconda3\\envs\\open-mmlab\\lib\\logging\\__init__.py\", line 1028, in emit\n",
      "    stream.write(msg + self.terminator)\n",
      "AttributeError: 'str' object has no attribute 'write'\n",
      "Call stack:\n",
      "  File \"D:\\Users\\zhuhongyi\\Anaconda3\\envs\\open-mmlab\\lib\\runpy.py\", line 193, in _run_module_as_main\n",
      "    \"__main__\", mod_spec)\n",
      "  File \"D:\\Users\\zhuhongyi\\Anaconda3\\envs\\open-mmlab\\lib\\runpy.py\", line 85, in _run_code\n",
      "    exec(code, run_globals)\n",
      "  File \"D:\\Users\\zhuhongyi\\Anaconda3\\envs\\open-mmlab\\lib\\site-packages\\ipykernel_launcher.py\", line 16, in <module>\n",
      "    app.launch_new_instance()\n",
      "  File \"D:\\Users\\zhuhongyi\\Anaconda3\\envs\\open-mmlab\\lib\\site-packages\\traitlets\\config\\application.py\", line 846, in launch_instance\n",
      "    app.start()\n",
      "  File \"D:\\Users\\zhuhongyi\\Anaconda3\\envs\\open-mmlab\\lib\\site-packages\\ipykernel\\kernelapp.py\", line 677, in start\n",
      "    self.io_loop.start()\n",
      "  File \"D:\\Users\\zhuhongyi\\Anaconda3\\envs\\open-mmlab\\lib\\site-packages\\tornado\\platform\\asyncio.py\", line 199, in start\n",
      "    self.asyncio_loop.run_forever()\n",
      "  File \"D:\\Users\\zhuhongyi\\Anaconda3\\envs\\open-mmlab\\lib\\asyncio\\base_events.py\", line 541, in run_forever\n",
      "    self._run_once()\n",
      "  File \"D:\\Users\\zhuhongyi\\Anaconda3\\envs\\open-mmlab\\lib\\asyncio\\base_events.py\", line 1786, in _run_once\n",
      "    handle._run()\n",
      "  File \"D:\\Users\\zhuhongyi\\Anaconda3\\envs\\open-mmlab\\lib\\asyncio\\events.py\", line 88, in _run\n",
      "    self._context.run(self._callback, *self._args)\n",
      "  File \"D:\\Users\\zhuhongyi\\Anaconda3\\envs\\open-mmlab\\lib\\site-packages\\ipykernel\\kernelbase.py\", line 457, in dispatch_queue\n",
      "    await self.process_one()\n",
      "  File \"D:\\Users\\zhuhongyi\\Anaconda3\\envs\\open-mmlab\\lib\\site-packages\\ipykernel\\kernelbase.py\", line 446, in process_one\n",
      "    await dispatch(*args)\n",
      "  File \"D:\\Users\\zhuhongyi\\Anaconda3\\envs\\open-mmlab\\lib\\site-packages\\ipykernel\\kernelbase.py\", line 353, in dispatch_shell\n",
      "    await result\n",
      "  File \"D:\\Users\\zhuhongyi\\Anaconda3\\envs\\open-mmlab\\lib\\site-packages\\ipykernel\\kernelbase.py\", line 648, in execute_request\n",
      "    reply_content = await reply_content\n",
      "  File \"D:\\Users\\zhuhongyi\\Anaconda3\\envs\\open-mmlab\\lib\\site-packages\\ipykernel\\ipkernel.py\", line 353, in do_execute\n",
      "    res = shell.run_cell(code, store_history=store_history, silent=silent)\n",
      "  File \"D:\\Users\\zhuhongyi\\Anaconda3\\envs\\open-mmlab\\lib\\site-packages\\ipykernel\\zmqshell.py\", line 533, in run_cell\n",
      "    return super(ZMQInteractiveShell, self).run_cell(*args, **kwargs)\n",
      "  File \"D:\\Users\\zhuhongyi\\Anaconda3\\envs\\open-mmlab\\lib\\site-packages\\IPython\\core\\interactiveshell.py\", line 2902, in run_cell\n",
      "    raw_cell, store_history, silent, shell_futures)\n",
      "  File \"D:\\Users\\zhuhongyi\\Anaconda3\\envs\\open-mmlab\\lib\\site-packages\\IPython\\core\\interactiveshell.py\", line 2947, in _run_cell\n",
      "    return runner(coro)\n",
      "  File \"D:\\Users\\zhuhongyi\\Anaconda3\\envs\\open-mmlab\\lib\\site-packages\\IPython\\core\\async_helpers.py\", line 68, in _pseudo_sync_runner\n",
      "    coro.send(None)\n",
      "  File \"D:\\Users\\zhuhongyi\\Anaconda3\\envs\\open-mmlab\\lib\\site-packages\\IPython\\core\\interactiveshell.py\", line 3173, in run_cell_async\n",
      "    interactivity=interactivity, compiler=compiler, result=result)\n",
      "  File \"D:\\Users\\zhuhongyi\\Anaconda3\\envs\\open-mmlab\\lib\\site-packages\\IPython\\core\\interactiveshell.py\", line 3364, in run_ast_nodes\n",
      "    if (await self.run_code(code, result,  async_=asy)):\n",
      "  File \"D:\\Users\\zhuhongyi\\Anaconda3\\envs\\open-mmlab\\lib\\site-packages\\IPython\\core\\interactiveshell.py\", line 3444, in run_code\n",
      "    exec(code_obj, self.user_global_ns, self.user_ns)\n",
      "  File \"C:\\Users\\ZHUHON~1\\AppData\\Local\\Temp/ipykernel_22216/3963110451.py\", line 3, in <module>\n",
      "    logger.info(\"set2\")\n",
      "Message: 'set2'\n",
      "Arguments: ()\n",
      "--- Logging error ---\n",
      "Traceback (most recent call last):\n",
      "  File \"D:\\Users\\zhuhongyi\\Anaconda3\\envs\\open-mmlab\\lib\\logging\\__init__.py\", line 1028, in emit\n",
      "    stream.write(msg + self.terminator)\n",
      "AttributeError: 'str' object has no attribute 'write'\n",
      "Call stack:\n",
      "  File \"D:\\Users\\zhuhongyi\\Anaconda3\\envs\\open-mmlab\\lib\\runpy.py\", line 193, in _run_module_as_main\n",
      "    \"__main__\", mod_spec)\n",
      "  File \"D:\\Users\\zhuhongyi\\Anaconda3\\envs\\open-mmlab\\lib\\runpy.py\", line 85, in _run_code\n",
      "    exec(code, run_globals)\n",
      "  File \"D:\\Users\\zhuhongyi\\Anaconda3\\envs\\open-mmlab\\lib\\site-packages\\ipykernel_launcher.py\", line 16, in <module>\n",
      "    app.launch_new_instance()\n",
      "  File \"D:\\Users\\zhuhongyi\\Anaconda3\\envs\\open-mmlab\\lib\\site-packages\\traitlets\\config\\application.py\", line 846, in launch_instance\n",
      "    app.start()\n",
      "  File \"D:\\Users\\zhuhongyi\\Anaconda3\\envs\\open-mmlab\\lib\\site-packages\\ipykernel\\kernelapp.py\", line 677, in start\n",
      "    self.io_loop.start()\n",
      "  File \"D:\\Users\\zhuhongyi\\Anaconda3\\envs\\open-mmlab\\lib\\site-packages\\tornado\\platform\\asyncio.py\", line 199, in start\n",
      "    self.asyncio_loop.run_forever()\n",
      "  File \"D:\\Users\\zhuhongyi\\Anaconda3\\envs\\open-mmlab\\lib\\asyncio\\base_events.py\", line 541, in run_forever\n",
      "    self._run_once()\n",
      "  File \"D:\\Users\\zhuhongyi\\Anaconda3\\envs\\open-mmlab\\lib\\asyncio\\base_events.py\", line 1786, in _run_once\n",
      "    handle._run()\n",
      "  File \"D:\\Users\\zhuhongyi\\Anaconda3\\envs\\open-mmlab\\lib\\asyncio\\events.py\", line 88, in _run\n",
      "    self._context.run(self._callback, *self._args)\n",
      "  File \"D:\\Users\\zhuhongyi\\Anaconda3\\envs\\open-mmlab\\lib\\site-packages\\ipykernel\\kernelbase.py\", line 457, in dispatch_queue\n",
      "    await self.process_one()\n",
      "  File \"D:\\Users\\zhuhongyi\\Anaconda3\\envs\\open-mmlab\\lib\\site-packages\\ipykernel\\kernelbase.py\", line 446, in process_one\n",
      "    await dispatch(*args)\n",
      "  File \"D:\\Users\\zhuhongyi\\Anaconda3\\envs\\open-mmlab\\lib\\site-packages\\ipykernel\\kernelbase.py\", line 353, in dispatch_shell\n",
      "    await result\n",
      "  File \"D:\\Users\\zhuhongyi\\Anaconda3\\envs\\open-mmlab\\lib\\site-packages\\ipykernel\\kernelbase.py\", line 648, in execute_request\n",
      "    reply_content = await reply_content\n",
      "  File \"D:\\Users\\zhuhongyi\\Anaconda3\\envs\\open-mmlab\\lib\\site-packages\\ipykernel\\ipkernel.py\", line 353, in do_execute\n",
      "    res = shell.run_cell(code, store_history=store_history, silent=silent)\n",
      "  File \"D:\\Users\\zhuhongyi\\Anaconda3\\envs\\open-mmlab\\lib\\site-packages\\ipykernel\\zmqshell.py\", line 533, in run_cell\n",
      "    return super(ZMQInteractiveShell, self).run_cell(*args, **kwargs)\n",
      "  File \"D:\\Users\\zhuhongyi\\Anaconda3\\envs\\open-mmlab\\lib\\site-packages\\IPython\\core\\interactiveshell.py\", line 2902, in run_cell\n",
      "    raw_cell, store_history, silent, shell_futures)\n",
      "  File \"D:\\Users\\zhuhongyi\\Anaconda3\\envs\\open-mmlab\\lib\\site-packages\\IPython\\core\\interactiveshell.py\", line 2947, in _run_cell\n",
      "    return runner(coro)\n",
      "  File \"D:\\Users\\zhuhongyi\\Anaconda3\\envs\\open-mmlab\\lib\\site-packages\\IPython\\core\\async_helpers.py\", line 68, in _pseudo_sync_runner\n",
      "    coro.send(None)\n",
      "  File \"D:\\Users\\zhuhongyi\\Anaconda3\\envs\\open-mmlab\\lib\\site-packages\\IPython\\core\\interactiveshell.py\", line 3173, in run_cell_async\n",
      "    interactivity=interactivity, compiler=compiler, result=result)\n",
      "  File \"D:\\Users\\zhuhongyi\\Anaconda3\\envs\\open-mmlab\\lib\\site-packages\\IPython\\core\\interactiveshell.py\", line 3364, in run_ast_nodes\n",
      "    if (await self.run_code(code, result,  async_=asy)):\n",
      "  File \"D:\\Users\\zhuhongyi\\Anaconda3\\envs\\open-mmlab\\lib\\site-packages\\IPython\\core\\interactiveshell.py\", line 3444, in run_code\n",
      "    exec(code_obj, self.user_global_ns, self.user_ns)\n",
      "  File \"C:\\Users\\ZHUHON~1\\AppData\\Local\\Temp/ipykernel_22216/3963110451.py\", line 3, in <module>\n",
      "    logger.info(\"set2\")\n",
      "Message: 'set2'\n",
      "Arguments: ()\n",
      "--- Logging error ---\n",
      "Traceback (most recent call last):\n",
      "  File \"D:\\Users\\zhuhongyi\\Anaconda3\\envs\\open-mmlab\\lib\\logging\\__init__.py\", line 1028, in emit\n",
      "    stream.write(msg + self.terminator)\n",
      "io.UnsupportedOperation: not writable\n",
      "Call stack:\n",
      "  File \"D:\\Users\\zhuhongyi\\Anaconda3\\envs\\open-mmlab\\lib\\runpy.py\", line 193, in _run_module_as_main\n",
      "    \"__main__\", mod_spec)\n",
      "  File \"D:\\Users\\zhuhongyi\\Anaconda3\\envs\\open-mmlab\\lib\\runpy.py\", line 85, in _run_code\n",
      "    exec(code, run_globals)\n",
      "  File \"D:\\Users\\zhuhongyi\\Anaconda3\\envs\\open-mmlab\\lib\\site-packages\\ipykernel_launcher.py\", line 16, in <module>\n",
      "    app.launch_new_instance()\n",
      "  File \"D:\\Users\\zhuhongyi\\Anaconda3\\envs\\open-mmlab\\lib\\site-packages\\traitlets\\config\\application.py\", line 846, in launch_instance\n",
      "    app.start()\n",
      "  File \"D:\\Users\\zhuhongyi\\Anaconda3\\envs\\open-mmlab\\lib\\site-packages\\ipykernel\\kernelapp.py\", line 677, in start\n",
      "    self.io_loop.start()\n",
      "  File \"D:\\Users\\zhuhongyi\\Anaconda3\\envs\\open-mmlab\\lib\\site-packages\\tornado\\platform\\asyncio.py\", line 199, in start\n",
      "    self.asyncio_loop.run_forever()\n",
      "  File \"D:\\Users\\zhuhongyi\\Anaconda3\\envs\\open-mmlab\\lib\\asyncio\\base_events.py\", line 541, in run_forever\n",
      "    self._run_once()\n",
      "  File \"D:\\Users\\zhuhongyi\\Anaconda3\\envs\\open-mmlab\\lib\\asyncio\\base_events.py\", line 1786, in _run_once\n",
      "    handle._run()\n",
      "  File \"D:\\Users\\zhuhongyi\\Anaconda3\\envs\\open-mmlab\\lib\\asyncio\\events.py\", line 88, in _run\n",
      "    self._context.run(self._callback, *self._args)\n",
      "  File \"D:\\Users\\zhuhongyi\\Anaconda3\\envs\\open-mmlab\\lib\\site-packages\\ipykernel\\kernelbase.py\", line 457, in dispatch_queue\n",
      "    await self.process_one()\n",
      "  File \"D:\\Users\\zhuhongyi\\Anaconda3\\envs\\open-mmlab\\lib\\site-packages\\ipykernel\\kernelbase.py\", line 446, in process_one\n",
      "    await dispatch(*args)\n",
      "  File \"D:\\Users\\zhuhongyi\\Anaconda3\\envs\\open-mmlab\\lib\\site-packages\\ipykernel\\kernelbase.py\", line 353, in dispatch_shell\n",
      "    await result\n",
      "  File \"D:\\Users\\zhuhongyi\\Anaconda3\\envs\\open-mmlab\\lib\\site-packages\\ipykernel\\kernelbase.py\", line 648, in execute_request\n",
      "    reply_content = await reply_content\n",
      "  File \"D:\\Users\\zhuhongyi\\Anaconda3\\envs\\open-mmlab\\lib\\site-packages\\ipykernel\\ipkernel.py\", line 353, in do_execute\n",
      "    res = shell.run_cell(code, store_history=store_history, silent=silent)\n",
      "  File \"D:\\Users\\zhuhongyi\\Anaconda3\\envs\\open-mmlab\\lib\\site-packages\\ipykernel\\zmqshell.py\", line 533, in run_cell\n",
      "    return super(ZMQInteractiveShell, self).run_cell(*args, **kwargs)\n",
      "  File \"D:\\Users\\zhuhongyi\\Anaconda3\\envs\\open-mmlab\\lib\\site-packages\\IPython\\core\\interactiveshell.py\", line 2902, in run_cell\n",
      "    raw_cell, store_history, silent, shell_futures)\n",
      "  File \"D:\\Users\\zhuhongyi\\Anaconda3\\envs\\open-mmlab\\lib\\site-packages\\IPython\\core\\interactiveshell.py\", line 2947, in _run_cell\n",
      "    return runner(coro)\n",
      "  File \"D:\\Users\\zhuhongyi\\Anaconda3\\envs\\open-mmlab\\lib\\site-packages\\IPython\\core\\async_helpers.py\", line 68, in _pseudo_sync_runner\n",
      "    coro.send(None)\n",
      "  File \"D:\\Users\\zhuhongyi\\Anaconda3\\envs\\open-mmlab\\lib\\site-packages\\IPython\\core\\interactiveshell.py\", line 3173, in run_cell_async\n",
      "    interactivity=interactivity, compiler=compiler, result=result)\n",
      "  File \"D:\\Users\\zhuhongyi\\Anaconda3\\envs\\open-mmlab\\lib\\site-packages\\IPython\\core\\interactiveshell.py\", line 3364, in run_ast_nodes\n",
      "    if (await self.run_code(code, result,  async_=asy)):\n",
      "  File \"D:\\Users\\zhuhongyi\\Anaconda3\\envs\\open-mmlab\\lib\\site-packages\\IPython\\core\\interactiveshell.py\", line 3444, in run_code\n",
      "    exec(code_obj, self.user_global_ns, self.user_ns)\n",
      "  File \"C:\\Users\\ZHUHON~1\\AppData\\Local\\Temp/ipykernel_22216/3963110451.py\", line 3, in <module>\n",
      "    logger.info(\"set2\")\n",
      "Message: 'set2'\n",
      "Arguments: ()\n",
      "--- Logging error ---\n",
      "Traceback (most recent call last):\n",
      "  File \"D:\\Users\\zhuhongyi\\Anaconda3\\envs\\open-mmlab\\lib\\logging\\__init__.py\", line 1028, in emit\n",
      "    stream.write(msg + self.terminator)\n",
      "io.UnsupportedOperation: not writable\n",
      "Call stack:\n",
      "  File \"D:\\Users\\zhuhongyi\\Anaconda3\\envs\\open-mmlab\\lib\\runpy.py\", line 193, in _run_module_as_main\n",
      "    \"__main__\", mod_spec)\n",
      "  File \"D:\\Users\\zhuhongyi\\Anaconda3\\envs\\open-mmlab\\lib\\runpy.py\", line 85, in _run_code\n",
      "    exec(code, run_globals)\n",
      "  File \"D:\\Users\\zhuhongyi\\Anaconda3\\envs\\open-mmlab\\lib\\site-packages\\ipykernel_launcher.py\", line 16, in <module>\n",
      "    app.launch_new_instance()\n",
      "  File \"D:\\Users\\zhuhongyi\\Anaconda3\\envs\\open-mmlab\\lib\\site-packages\\traitlets\\config\\application.py\", line 846, in launch_instance\n",
      "    app.start()\n",
      "  File \"D:\\Users\\zhuhongyi\\Anaconda3\\envs\\open-mmlab\\lib\\site-packages\\ipykernel\\kernelapp.py\", line 677, in start\n",
      "    self.io_loop.start()\n",
      "  File \"D:\\Users\\zhuhongyi\\Anaconda3\\envs\\open-mmlab\\lib\\site-packages\\tornado\\platform\\asyncio.py\", line 199, in start\n",
      "    self.asyncio_loop.run_forever()\n",
      "  File \"D:\\Users\\zhuhongyi\\Anaconda3\\envs\\open-mmlab\\lib\\asyncio\\base_events.py\", line 541, in run_forever\n",
      "    self._run_once()\n",
      "  File \"D:\\Users\\zhuhongyi\\Anaconda3\\envs\\open-mmlab\\lib\\asyncio\\base_events.py\", line 1786, in _run_once\n",
      "    handle._run()\n",
      "  File \"D:\\Users\\zhuhongyi\\Anaconda3\\envs\\open-mmlab\\lib\\asyncio\\events.py\", line 88, in _run\n",
      "    self._context.run(self._callback, *self._args)\n",
      "  File \"D:\\Users\\zhuhongyi\\Anaconda3\\envs\\open-mmlab\\lib\\site-packages\\ipykernel\\kernelbase.py\", line 457, in dispatch_queue\n",
      "    await self.process_one()\n",
      "  File \"D:\\Users\\zhuhongyi\\Anaconda3\\envs\\open-mmlab\\lib\\site-packages\\ipykernel\\kernelbase.py\", line 446, in process_one\n",
      "    await dispatch(*args)\n",
      "  File \"D:\\Users\\zhuhongyi\\Anaconda3\\envs\\open-mmlab\\lib\\site-packages\\ipykernel\\kernelbase.py\", line 353, in dispatch_shell\n",
      "    await result\n",
      "  File \"D:\\Users\\zhuhongyi\\Anaconda3\\envs\\open-mmlab\\lib\\site-packages\\ipykernel\\kernelbase.py\", line 648, in execute_request\n",
      "    reply_content = await reply_content\n",
      "  File \"D:\\Users\\zhuhongyi\\Anaconda3\\envs\\open-mmlab\\lib\\site-packages\\ipykernel\\ipkernel.py\", line 353, in do_execute\n",
      "    res = shell.run_cell(code, store_history=store_history, silent=silent)\n",
      "  File \"D:\\Users\\zhuhongyi\\Anaconda3\\envs\\open-mmlab\\lib\\site-packages\\ipykernel\\zmqshell.py\", line 533, in run_cell\n",
      "    return super(ZMQInteractiveShell, self).run_cell(*args, **kwargs)\n",
      "  File \"D:\\Users\\zhuhongyi\\Anaconda3\\envs\\open-mmlab\\lib\\site-packages\\IPython\\core\\interactiveshell.py\", line 2902, in run_cell\n",
      "    raw_cell, store_history, silent, shell_futures)\n",
      "  File \"D:\\Users\\zhuhongyi\\Anaconda3\\envs\\open-mmlab\\lib\\site-packages\\IPython\\core\\interactiveshell.py\", line 2947, in _run_cell\n",
      "    return runner(coro)\n",
      "  File \"D:\\Users\\zhuhongyi\\Anaconda3\\envs\\open-mmlab\\lib\\site-packages\\IPython\\core\\async_helpers.py\", line 68, in _pseudo_sync_runner\n",
      "    coro.send(None)\n",
      "  File \"D:\\Users\\zhuhongyi\\Anaconda3\\envs\\open-mmlab\\lib\\site-packages\\IPython\\core\\interactiveshell.py\", line 3173, in run_cell_async\n",
      "    interactivity=interactivity, compiler=compiler, result=result)\n",
      "  File \"D:\\Users\\zhuhongyi\\Anaconda3\\envs\\open-mmlab\\lib\\site-packages\\IPython\\core\\interactiveshell.py\", line 3364, in run_ast_nodes\n",
      "    if (await self.run_code(code, result,  async_=asy)):\n",
      "  File \"D:\\Users\\zhuhongyi\\Anaconda3\\envs\\open-mmlab\\lib\\site-packages\\IPython\\core\\interactiveshell.py\", line 3444, in run_code\n",
      "    exec(code_obj, self.user_global_ns, self.user_ns)\n",
      "  File \"C:\\Users\\ZHUHON~1\\AppData\\Local\\Temp/ipykernel_22216/3963110451.py\", line 3, in <module>\n",
      "    logger.info(\"set2\")\n",
      "Message: 'set2'\n",
      "Arguments: ()\n",
      "set2\n"
     ]
    }
   ],
   "source": [
    "\n",
    "#logger_config(log_path=file, logging_name=\"test\")\n",
    "logger = logging.getLogger(\"test\")\n",
    "logger.info(\"set2\")"
   ]
  },
  {
   "cell_type": "code",
   "execution_count": 2,
   "metadata": {},
   "outputs": [],
   "source": [
    "import numpy as np\n",
    "npy_file = r\"D:\\pose\\i3d_kinatics\\kinetics-i3d\\data\\v_CricketShot_g04_c01_rgb.npy\""
   ]
  },
  {
   "cell_type": "code",
   "execution_count": 3,
   "metadata": {},
   "outputs": [],
   "source": [
    "data = np.load(npy_file)"
   ]
  },
  {
   "cell_type": "code",
   "execution_count": 5,
   "metadata": {},
   "outputs": [
    {
     "data": {
      "text/plain": [
       "(1, 79, 224, 224, 3)"
      ]
     },
     "execution_count": 5,
     "metadata": {},
     "output_type": "execute_result"
    }
   ],
   "source": [
    "data.shape"
   ]
  }
 ],
 "metadata": {
  "interpreter": {
   "hash": "56ec21f37e8ac91bc3c4903a3a123a57e5ac025776b68c95fad06c0f95fcab8f"
  },
  "kernelspec": {
   "display_name": "Python 3.7.11 64-bit ('open-mmlab': conda)",
   "language": "python",
   "name": "python3"
  },
  "language_info": {
   "codemirror_mode": {
    "name": "ipython",
    "version": 3
   },
   "file_extension": ".py",
   "mimetype": "text/x-python",
   "name": "python",
   "nbconvert_exporter": "python",
   "pygments_lexer": "ipython3",
   "version": "3.7.11"
  },
  "orig_nbformat": 4
 },
 "nbformat": 4,
 "nbformat_minor": 2
}
